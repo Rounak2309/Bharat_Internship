{
 "cells": [
  {
   "cell_type": "markdown",
   "id": "3f00afbf",
   "metadata": {},
   "source": [
    "## Wine Quality Prediction "
   ]
  },
  {
   "cell_type": "markdown",
   "id": "5554f955",
   "metadata": {},
   "source": [
    "#### Busniss Problem :-"
   ]
  },
  {
   "cell_type": "markdown",
   "id": "78fcc833",
   "metadata": {},
   "source": [
    "We have to predict Quality of wine based on other independent variables."
   ]
  },
  {
   "cell_type": "markdown",
   "id": "b638e3c6",
   "metadata": {},
   "source": [
    "#### Importing Libraries:"
   ]
  },
  {
   "cell_type": "code",
   "execution_count": 1,
   "id": "eebd254c",
   "metadata": {},
   "outputs": [],
   "source": [
    "import numpy as np \n",
    "import pandas as pd\n",
    "import seaborn as sns\n",
    "import matplotlib.pyplot as plt\n",
    "from sklearn.tree import DecisionTreeClassifier\n",
    "from sklearn import tree \n",
    "import warnings\n",
    "warnings.filterwarnings('ignore')\n",
    "\n",
    "from sklearn.model_selection import train_test_split, GridSearchCV\n",
    "from sklearn.metrics import accuracy_score, confusion_matrix, roc_auc_score,roc_curve\n",
    "from pandas_profiling import ProfileReport"
   ]
  },
  {
   "cell_type": "markdown",
   "id": "01e9daa4",
   "metadata": {},
   "source": [
    "#### Importing Data:"
   ]
  },
  {
   "cell_type": "code",
   "execution_count": 2,
   "id": "0d7ccbb4",
   "metadata": {},
   "outputs": [],
   "source": [
    "df = pd.read_csv('winequality_red.csv')"
   ]
  },
  {
   "cell_type": "code",
   "execution_count": 3,
   "id": "1e706705",
   "metadata": {},
   "outputs": [
    {
     "data": {
      "text/html": [
       "<div>\n",
       "<style scoped>\n",
       "    .dataframe tbody tr th:only-of-type {\n",
       "        vertical-align: middle;\n",
       "    }\n",
       "\n",
       "    .dataframe tbody tr th {\n",
       "        vertical-align: top;\n",
       "    }\n",
       "\n",
       "    .dataframe thead th {\n",
       "        text-align: right;\n",
       "    }\n",
       "</style>\n",
       "<table border=\"1\" class=\"dataframe\">\n",
       "  <thead>\n",
       "    <tr style=\"text-align: right;\">\n",
       "      <th></th>\n",
       "      <th>fixed acidity</th>\n",
       "      <th>volatile acidity</th>\n",
       "      <th>citric acid</th>\n",
       "      <th>residual sugar</th>\n",
       "      <th>chlorides</th>\n",
       "      <th>free sulfur dioxide</th>\n",
       "      <th>total sulfur dioxide</th>\n",
       "      <th>density</th>\n",
       "      <th>pH</th>\n",
       "      <th>sulphates</th>\n",
       "      <th>alcohol</th>\n",
       "      <th>quality</th>\n",
       "    </tr>\n",
       "  </thead>\n",
       "  <tbody>\n",
       "    <tr>\n",
       "      <th>0</th>\n",
       "      <td>7.4</td>\n",
       "      <td>0.700</td>\n",
       "      <td>0.00</td>\n",
       "      <td>1.9</td>\n",
       "      <td>0.076</td>\n",
       "      <td>11.0</td>\n",
       "      <td>34.0</td>\n",
       "      <td>0.99780</td>\n",
       "      <td>3.51</td>\n",
       "      <td>0.56</td>\n",
       "      <td>9.4</td>\n",
       "      <td>5</td>\n",
       "    </tr>\n",
       "    <tr>\n",
       "      <th>1</th>\n",
       "      <td>7.8</td>\n",
       "      <td>0.880</td>\n",
       "      <td>0.00</td>\n",
       "      <td>2.6</td>\n",
       "      <td>0.098</td>\n",
       "      <td>25.0</td>\n",
       "      <td>67.0</td>\n",
       "      <td>0.99680</td>\n",
       "      <td>3.20</td>\n",
       "      <td>0.68</td>\n",
       "      <td>9.8</td>\n",
       "      <td>5</td>\n",
       "    </tr>\n",
       "    <tr>\n",
       "      <th>2</th>\n",
       "      <td>7.8</td>\n",
       "      <td>0.760</td>\n",
       "      <td>0.04</td>\n",
       "      <td>2.3</td>\n",
       "      <td>0.092</td>\n",
       "      <td>15.0</td>\n",
       "      <td>54.0</td>\n",
       "      <td>0.99700</td>\n",
       "      <td>3.26</td>\n",
       "      <td>0.65</td>\n",
       "      <td>9.8</td>\n",
       "      <td>5</td>\n",
       "    </tr>\n",
       "    <tr>\n",
       "      <th>3</th>\n",
       "      <td>11.2</td>\n",
       "      <td>0.280</td>\n",
       "      <td>0.56</td>\n",
       "      <td>1.9</td>\n",
       "      <td>0.075</td>\n",
       "      <td>17.0</td>\n",
       "      <td>60.0</td>\n",
       "      <td>0.99800</td>\n",
       "      <td>3.16</td>\n",
       "      <td>0.58</td>\n",
       "      <td>9.8</td>\n",
       "      <td>6</td>\n",
       "    </tr>\n",
       "    <tr>\n",
       "      <th>4</th>\n",
       "      <td>7.4</td>\n",
       "      <td>0.700</td>\n",
       "      <td>0.00</td>\n",
       "      <td>1.9</td>\n",
       "      <td>0.076</td>\n",
       "      <td>11.0</td>\n",
       "      <td>34.0</td>\n",
       "      <td>0.99780</td>\n",
       "      <td>3.51</td>\n",
       "      <td>0.56</td>\n",
       "      <td>9.4</td>\n",
       "      <td>5</td>\n",
       "    </tr>\n",
       "    <tr>\n",
       "      <th>...</th>\n",
       "      <td>...</td>\n",
       "      <td>...</td>\n",
       "      <td>...</td>\n",
       "      <td>...</td>\n",
       "      <td>...</td>\n",
       "      <td>...</td>\n",
       "      <td>...</td>\n",
       "      <td>...</td>\n",
       "      <td>...</td>\n",
       "      <td>...</td>\n",
       "      <td>...</td>\n",
       "      <td>...</td>\n",
       "    </tr>\n",
       "    <tr>\n",
       "      <th>1594</th>\n",
       "      <td>6.2</td>\n",
       "      <td>0.600</td>\n",
       "      <td>0.08</td>\n",
       "      <td>2.0</td>\n",
       "      <td>0.090</td>\n",
       "      <td>32.0</td>\n",
       "      <td>44.0</td>\n",
       "      <td>0.99490</td>\n",
       "      <td>3.45</td>\n",
       "      <td>0.58</td>\n",
       "      <td>10.5</td>\n",
       "      <td>5</td>\n",
       "    </tr>\n",
       "    <tr>\n",
       "      <th>1595</th>\n",
       "      <td>5.9</td>\n",
       "      <td>0.550</td>\n",
       "      <td>0.10</td>\n",
       "      <td>2.2</td>\n",
       "      <td>0.062</td>\n",
       "      <td>39.0</td>\n",
       "      <td>51.0</td>\n",
       "      <td>0.99512</td>\n",
       "      <td>3.52</td>\n",
       "      <td>0.76</td>\n",
       "      <td>11.2</td>\n",
       "      <td>6</td>\n",
       "    </tr>\n",
       "    <tr>\n",
       "      <th>1596</th>\n",
       "      <td>6.3</td>\n",
       "      <td>0.510</td>\n",
       "      <td>0.13</td>\n",
       "      <td>2.3</td>\n",
       "      <td>0.076</td>\n",
       "      <td>29.0</td>\n",
       "      <td>40.0</td>\n",
       "      <td>0.99574</td>\n",
       "      <td>3.42</td>\n",
       "      <td>0.75</td>\n",
       "      <td>11.0</td>\n",
       "      <td>6</td>\n",
       "    </tr>\n",
       "    <tr>\n",
       "      <th>1597</th>\n",
       "      <td>5.9</td>\n",
       "      <td>0.645</td>\n",
       "      <td>0.12</td>\n",
       "      <td>2.0</td>\n",
       "      <td>0.075</td>\n",
       "      <td>32.0</td>\n",
       "      <td>44.0</td>\n",
       "      <td>0.99547</td>\n",
       "      <td>3.57</td>\n",
       "      <td>0.71</td>\n",
       "      <td>10.2</td>\n",
       "      <td>5</td>\n",
       "    </tr>\n",
       "    <tr>\n",
       "      <th>1598</th>\n",
       "      <td>6.0</td>\n",
       "      <td>0.310</td>\n",
       "      <td>0.47</td>\n",
       "      <td>3.6</td>\n",
       "      <td>0.067</td>\n",
       "      <td>18.0</td>\n",
       "      <td>42.0</td>\n",
       "      <td>0.99549</td>\n",
       "      <td>3.39</td>\n",
       "      <td>0.66</td>\n",
       "      <td>11.0</td>\n",
       "      <td>6</td>\n",
       "    </tr>\n",
       "  </tbody>\n",
       "</table>\n",
       "<p>1599 rows × 12 columns</p>\n",
       "</div>"
      ],
      "text/plain": [
       "      fixed acidity  volatile acidity  citric acid  residual sugar  chlorides  \\\n",
       "0               7.4             0.700         0.00             1.9      0.076   \n",
       "1               7.8             0.880         0.00             2.6      0.098   \n",
       "2               7.8             0.760         0.04             2.3      0.092   \n",
       "3              11.2             0.280         0.56             1.9      0.075   \n",
       "4               7.4             0.700         0.00             1.9      0.076   \n",
       "...             ...               ...          ...             ...        ...   \n",
       "1594            6.2             0.600         0.08             2.0      0.090   \n",
       "1595            5.9             0.550         0.10             2.2      0.062   \n",
       "1596            6.3             0.510         0.13             2.3      0.076   \n",
       "1597            5.9             0.645         0.12             2.0      0.075   \n",
       "1598            6.0             0.310         0.47             3.6      0.067   \n",
       "\n",
       "      free sulfur dioxide  total sulfur dioxide  density    pH  sulphates  \\\n",
       "0                    11.0                  34.0  0.99780  3.51       0.56   \n",
       "1                    25.0                  67.0  0.99680  3.20       0.68   \n",
       "2                    15.0                  54.0  0.99700  3.26       0.65   \n",
       "3                    17.0                  60.0  0.99800  3.16       0.58   \n",
       "4                    11.0                  34.0  0.99780  3.51       0.56   \n",
       "...                   ...                   ...      ...   ...        ...   \n",
       "1594                 32.0                  44.0  0.99490  3.45       0.58   \n",
       "1595                 39.0                  51.0  0.99512  3.52       0.76   \n",
       "1596                 29.0                  40.0  0.99574  3.42       0.75   \n",
       "1597                 32.0                  44.0  0.99547  3.57       0.71   \n",
       "1598                 18.0                  42.0  0.99549  3.39       0.66   \n",
       "\n",
       "      alcohol  quality  \n",
       "0         9.4        5  \n",
       "1         9.8        5  \n",
       "2         9.8        5  \n",
       "3         9.8        6  \n",
       "4         9.4        5  \n",
       "...       ...      ...  \n",
       "1594     10.5        5  \n",
       "1595     11.2        6  \n",
       "1596     11.0        6  \n",
       "1597     10.2        5  \n",
       "1598     11.0        6  \n",
       "\n",
       "[1599 rows x 12 columns]"
      ]
     },
     "execution_count": 3,
     "metadata": {},
     "output_type": "execute_result"
    }
   ],
   "source": [
    "df"
   ]
  },
  {
   "cell_type": "markdown",
   "id": "bfd9af2e",
   "metadata": {},
   "source": [
    "#### Exploratory Data Analysis:"
   ]
  },
  {
   "cell_type": "code",
   "execution_count": 4,
   "id": "384f1a8b",
   "metadata": {},
   "outputs": [
    {
     "data": {
      "text/html": [
       "<div>\n",
       "<style scoped>\n",
       "    .dataframe tbody tr th:only-of-type {\n",
       "        vertical-align: middle;\n",
       "    }\n",
       "\n",
       "    .dataframe tbody tr th {\n",
       "        vertical-align: top;\n",
       "    }\n",
       "\n",
       "    .dataframe thead th {\n",
       "        text-align: right;\n",
       "    }\n",
       "</style>\n",
       "<table border=\"1\" class=\"dataframe\">\n",
       "  <thead>\n",
       "    <tr style=\"text-align: right;\">\n",
       "      <th></th>\n",
       "      <th>fixed acidity</th>\n",
       "      <th>volatile acidity</th>\n",
       "      <th>citric acid</th>\n",
       "      <th>residual sugar</th>\n",
       "      <th>chlorides</th>\n",
       "      <th>free sulfur dioxide</th>\n",
       "      <th>total sulfur dioxide</th>\n",
       "      <th>density</th>\n",
       "      <th>pH</th>\n",
       "      <th>sulphates</th>\n",
       "      <th>alcohol</th>\n",
       "      <th>quality</th>\n",
       "    </tr>\n",
       "  </thead>\n",
       "  <tbody>\n",
       "    <tr>\n",
       "      <th>0</th>\n",
       "      <td>7.4</td>\n",
       "      <td>0.70</td>\n",
       "      <td>0.00</td>\n",
       "      <td>1.9</td>\n",
       "      <td>0.076</td>\n",
       "      <td>11.0</td>\n",
       "      <td>34.0</td>\n",
       "      <td>0.9978</td>\n",
       "      <td>3.51</td>\n",
       "      <td>0.56</td>\n",
       "      <td>9.4</td>\n",
       "      <td>5</td>\n",
       "    </tr>\n",
       "    <tr>\n",
       "      <th>1</th>\n",
       "      <td>7.8</td>\n",
       "      <td>0.88</td>\n",
       "      <td>0.00</td>\n",
       "      <td>2.6</td>\n",
       "      <td>0.098</td>\n",
       "      <td>25.0</td>\n",
       "      <td>67.0</td>\n",
       "      <td>0.9968</td>\n",
       "      <td>3.20</td>\n",
       "      <td>0.68</td>\n",
       "      <td>9.8</td>\n",
       "      <td>5</td>\n",
       "    </tr>\n",
       "    <tr>\n",
       "      <th>2</th>\n",
       "      <td>7.8</td>\n",
       "      <td>0.76</td>\n",
       "      <td>0.04</td>\n",
       "      <td>2.3</td>\n",
       "      <td>0.092</td>\n",
       "      <td>15.0</td>\n",
       "      <td>54.0</td>\n",
       "      <td>0.9970</td>\n",
       "      <td>3.26</td>\n",
       "      <td>0.65</td>\n",
       "      <td>9.8</td>\n",
       "      <td>5</td>\n",
       "    </tr>\n",
       "    <tr>\n",
       "      <th>3</th>\n",
       "      <td>11.2</td>\n",
       "      <td>0.28</td>\n",
       "      <td>0.56</td>\n",
       "      <td>1.9</td>\n",
       "      <td>0.075</td>\n",
       "      <td>17.0</td>\n",
       "      <td>60.0</td>\n",
       "      <td>0.9980</td>\n",
       "      <td>3.16</td>\n",
       "      <td>0.58</td>\n",
       "      <td>9.8</td>\n",
       "      <td>6</td>\n",
       "    </tr>\n",
       "    <tr>\n",
       "      <th>4</th>\n",
       "      <td>7.4</td>\n",
       "      <td>0.70</td>\n",
       "      <td>0.00</td>\n",
       "      <td>1.9</td>\n",
       "      <td>0.076</td>\n",
       "      <td>11.0</td>\n",
       "      <td>34.0</td>\n",
       "      <td>0.9978</td>\n",
       "      <td>3.51</td>\n",
       "      <td>0.56</td>\n",
       "      <td>9.4</td>\n",
       "      <td>5</td>\n",
       "    </tr>\n",
       "  </tbody>\n",
       "</table>\n",
       "</div>"
      ],
      "text/plain": [
       "   fixed acidity  volatile acidity  citric acid  residual sugar  chlorides  \\\n",
       "0            7.4              0.70         0.00             1.9      0.076   \n",
       "1            7.8              0.88         0.00             2.6      0.098   \n",
       "2            7.8              0.76         0.04             2.3      0.092   \n",
       "3           11.2              0.28         0.56             1.9      0.075   \n",
       "4            7.4              0.70         0.00             1.9      0.076   \n",
       "\n",
       "   free sulfur dioxide  total sulfur dioxide  density    pH  sulphates  \\\n",
       "0                 11.0                  34.0   0.9978  3.51       0.56   \n",
       "1                 25.0                  67.0   0.9968  3.20       0.68   \n",
       "2                 15.0                  54.0   0.9970  3.26       0.65   \n",
       "3                 17.0                  60.0   0.9980  3.16       0.58   \n",
       "4                 11.0                  34.0   0.9978  3.51       0.56   \n",
       "\n",
       "   alcohol  quality  \n",
       "0      9.4        5  \n",
       "1      9.8        5  \n",
       "2      9.8        5  \n",
       "3      9.8        6  \n",
       "4      9.4        5  "
      ]
     },
     "execution_count": 4,
     "metadata": {},
     "output_type": "execute_result"
    }
   ],
   "source": [
    "#See top 5 records \n",
    "df.head()"
   ]
  },
  {
   "cell_type": "code",
   "execution_count": 5,
   "id": "bacc8094",
   "metadata": {},
   "outputs": [
    {
     "data": {
      "text/plain": [
       "{3, 4, 5, 6, 7, 8}"
      ]
     },
     "execution_count": 5,
     "metadata": {},
     "output_type": "execute_result"
    }
   ],
   "source": [
    "# See how our Quality is classified.\n",
    "set(df.quality)"
   ]
  },
  {
   "cell_type": "code",
   "execution_count": 6,
   "id": "921b70bb",
   "metadata": {},
   "outputs": [
    {
     "data": {
      "text/plain": [
       "240"
      ]
     },
     "execution_count": 6,
     "metadata": {},
     "output_type": "execute_result"
    }
   ],
   "source": [
    "# Check the Duplicates\n",
    "df.duplicated().sum()"
   ]
  },
  {
   "cell_type": "code",
   "execution_count": 7,
   "id": "e578a71a",
   "metadata": {},
   "outputs": [
    {
     "data": {
      "text/plain": [
       "(1359, 12)"
      ]
     },
     "execution_count": 7,
     "metadata": {},
     "output_type": "execute_result"
    }
   ],
   "source": [
    "# Removing the duplicate rows\n",
    "df.drop_duplicates(inplace= True)\n",
    "df.shape"
   ]
  },
  {
   "cell_type": "code",
   "execution_count": 8,
   "id": "4ee5f14b",
   "metadata": {},
   "outputs": [
    {
     "data": {
      "text/plain": [
       "Index(['fixed acidity', 'volatile acidity', 'citric acid', 'residual sugar',\n",
       "       'chlorides', 'free sulfur dioxide', 'total sulfur dioxide', 'density',\n",
       "       'pH', 'sulphates', 'alcohol', 'quality'],\n",
       "      dtype='object')"
      ]
     },
     "execution_count": 8,
     "metadata": {},
     "output_type": "execute_result"
    }
   ],
   "source": [
    "# Check the variable names\n",
    "df.columns"
   ]
  },
  {
   "cell_type": "code",
   "execution_count": 9,
   "id": "c2a8c6cc",
   "metadata": {},
   "outputs": [
    {
     "data": {
      "text/plain": [
       "fixed acidity           0\n",
       "volatile acidity        0\n",
       "citric acid             0\n",
       "residual sugar          0\n",
       "chlorides               0\n",
       "free sulfur dioxide     0\n",
       "total sulfur dioxide    0\n",
       "density                 0\n",
       "pH                      0\n",
       "sulphates               0\n",
       "alcohol                 0\n",
       "quality                 0\n",
       "dtype: int64"
      ]
     },
     "execution_count": 9,
     "metadata": {},
     "output_type": "execute_result"
    }
   ],
   "source": [
    "# Check the null values\n",
    "df.isnull().sum()"
   ]
  },
  {
   "cell_type": "code",
   "execution_count": 10,
   "id": "b754327f",
   "metadata": {},
   "outputs": [
    {
     "name": "stdout",
     "output_type": "stream",
     "text": [
      "<class 'pandas.core.frame.DataFrame'>\n",
      "Int64Index: 1359 entries, 0 to 1598\n",
      "Data columns (total 12 columns):\n",
      " #   Column                Non-Null Count  Dtype  \n",
      "---  ------                --------------  -----  \n",
      " 0   fixed acidity         1359 non-null   float64\n",
      " 1   volatile acidity      1359 non-null   float64\n",
      " 2   citric acid           1359 non-null   float64\n",
      " 3   residual sugar        1359 non-null   float64\n",
      " 4   chlorides             1359 non-null   float64\n",
      " 5   free sulfur dioxide   1359 non-null   float64\n",
      " 6   total sulfur dioxide  1359 non-null   float64\n",
      " 7   density               1359 non-null   float64\n",
      " 8   pH                    1359 non-null   float64\n",
      " 9   sulphates             1359 non-null   float64\n",
      " 10  alcohol               1359 non-null   float64\n",
      " 11  quality               1359 non-null   int64  \n",
      "dtypes: float64(11), int64(1)\n",
      "memory usage: 138.0 KB\n"
     ]
    }
   ],
   "source": [
    "# Check the basic Information of data\n",
    "df.info()"
   ]
  },
  {
   "cell_type": "code",
   "execution_count": 11,
   "id": "3a05252e",
   "metadata": {},
   "outputs": [
    {
     "data": {
      "text/html": [
       "<div>\n",
       "<style scoped>\n",
       "    .dataframe tbody tr th:only-of-type {\n",
       "        vertical-align: middle;\n",
       "    }\n",
       "\n",
       "    .dataframe tbody tr th {\n",
       "        vertical-align: top;\n",
       "    }\n",
       "\n",
       "    .dataframe thead th {\n",
       "        text-align: right;\n",
       "    }\n",
       "</style>\n",
       "<table border=\"1\" class=\"dataframe\">\n",
       "  <thead>\n",
       "    <tr style=\"text-align: right;\">\n",
       "      <th></th>\n",
       "      <th>count</th>\n",
       "      <th>mean</th>\n",
       "      <th>std</th>\n",
       "      <th>min</th>\n",
       "      <th>25%</th>\n",
       "      <th>50%</th>\n",
       "      <th>75%</th>\n",
       "      <th>max</th>\n",
       "    </tr>\n",
       "  </thead>\n",
       "  <tbody>\n",
       "    <tr>\n",
       "      <th>fixed acidity</th>\n",
       "      <td>1359.0</td>\n",
       "      <td>8.310596</td>\n",
       "      <td>1.736990</td>\n",
       "      <td>4.60000</td>\n",
       "      <td>7.1000</td>\n",
       "      <td>7.9000</td>\n",
       "      <td>9.20000</td>\n",
       "      <td>15.90000</td>\n",
       "    </tr>\n",
       "    <tr>\n",
       "      <th>volatile acidity</th>\n",
       "      <td>1359.0</td>\n",
       "      <td>0.529478</td>\n",
       "      <td>0.183031</td>\n",
       "      <td>0.12000</td>\n",
       "      <td>0.3900</td>\n",
       "      <td>0.5200</td>\n",
       "      <td>0.64000</td>\n",
       "      <td>1.58000</td>\n",
       "    </tr>\n",
       "    <tr>\n",
       "      <th>citric acid</th>\n",
       "      <td>1359.0</td>\n",
       "      <td>0.272333</td>\n",
       "      <td>0.195537</td>\n",
       "      <td>0.00000</td>\n",
       "      <td>0.0900</td>\n",
       "      <td>0.2600</td>\n",
       "      <td>0.43000</td>\n",
       "      <td>1.00000</td>\n",
       "    </tr>\n",
       "    <tr>\n",
       "      <th>residual sugar</th>\n",
       "      <td>1359.0</td>\n",
       "      <td>2.523400</td>\n",
       "      <td>1.352314</td>\n",
       "      <td>0.90000</td>\n",
       "      <td>1.9000</td>\n",
       "      <td>2.2000</td>\n",
       "      <td>2.60000</td>\n",
       "      <td>15.50000</td>\n",
       "    </tr>\n",
       "    <tr>\n",
       "      <th>chlorides</th>\n",
       "      <td>1359.0</td>\n",
       "      <td>0.088124</td>\n",
       "      <td>0.049377</td>\n",
       "      <td>0.01200</td>\n",
       "      <td>0.0700</td>\n",
       "      <td>0.0790</td>\n",
       "      <td>0.09100</td>\n",
       "      <td>0.61100</td>\n",
       "    </tr>\n",
       "    <tr>\n",
       "      <th>free sulfur dioxide</th>\n",
       "      <td>1359.0</td>\n",
       "      <td>15.893304</td>\n",
       "      <td>10.447270</td>\n",
       "      <td>1.00000</td>\n",
       "      <td>7.0000</td>\n",
       "      <td>14.0000</td>\n",
       "      <td>21.00000</td>\n",
       "      <td>72.00000</td>\n",
       "    </tr>\n",
       "    <tr>\n",
       "      <th>total sulfur dioxide</th>\n",
       "      <td>1359.0</td>\n",
       "      <td>46.825975</td>\n",
       "      <td>33.408946</td>\n",
       "      <td>6.00000</td>\n",
       "      <td>22.0000</td>\n",
       "      <td>38.0000</td>\n",
       "      <td>63.00000</td>\n",
       "      <td>289.00000</td>\n",
       "    </tr>\n",
       "    <tr>\n",
       "      <th>density</th>\n",
       "      <td>1359.0</td>\n",
       "      <td>0.996709</td>\n",
       "      <td>0.001869</td>\n",
       "      <td>0.99007</td>\n",
       "      <td>0.9956</td>\n",
       "      <td>0.9967</td>\n",
       "      <td>0.99782</td>\n",
       "      <td>1.00369</td>\n",
       "    </tr>\n",
       "    <tr>\n",
       "      <th>pH</th>\n",
       "      <td>1359.0</td>\n",
       "      <td>3.309787</td>\n",
       "      <td>0.155036</td>\n",
       "      <td>2.74000</td>\n",
       "      <td>3.2100</td>\n",
       "      <td>3.3100</td>\n",
       "      <td>3.40000</td>\n",
       "      <td>4.01000</td>\n",
       "    </tr>\n",
       "    <tr>\n",
       "      <th>sulphates</th>\n",
       "      <td>1359.0</td>\n",
       "      <td>0.658705</td>\n",
       "      <td>0.170667</td>\n",
       "      <td>0.33000</td>\n",
       "      <td>0.5500</td>\n",
       "      <td>0.6200</td>\n",
       "      <td>0.73000</td>\n",
       "      <td>2.00000</td>\n",
       "    </tr>\n",
       "    <tr>\n",
       "      <th>alcohol</th>\n",
       "      <td>1359.0</td>\n",
       "      <td>10.432315</td>\n",
       "      <td>1.082065</td>\n",
       "      <td>8.40000</td>\n",
       "      <td>9.5000</td>\n",
       "      <td>10.2000</td>\n",
       "      <td>11.10000</td>\n",
       "      <td>14.90000</td>\n",
       "    </tr>\n",
       "    <tr>\n",
       "      <th>quality</th>\n",
       "      <td>1359.0</td>\n",
       "      <td>5.623252</td>\n",
       "      <td>0.823578</td>\n",
       "      <td>3.00000</td>\n",
       "      <td>5.0000</td>\n",
       "      <td>6.0000</td>\n",
       "      <td>6.00000</td>\n",
       "      <td>8.00000</td>\n",
       "    </tr>\n",
       "  </tbody>\n",
       "</table>\n",
       "</div>"
      ],
      "text/plain": [
       "                       count       mean        std      min      25%      50%  \\\n",
       "fixed acidity         1359.0   8.310596   1.736990  4.60000   7.1000   7.9000   \n",
       "volatile acidity      1359.0   0.529478   0.183031  0.12000   0.3900   0.5200   \n",
       "citric acid           1359.0   0.272333   0.195537  0.00000   0.0900   0.2600   \n",
       "residual sugar        1359.0   2.523400   1.352314  0.90000   1.9000   2.2000   \n",
       "chlorides             1359.0   0.088124   0.049377  0.01200   0.0700   0.0790   \n",
       "free sulfur dioxide   1359.0  15.893304  10.447270  1.00000   7.0000  14.0000   \n",
       "total sulfur dioxide  1359.0  46.825975  33.408946  6.00000  22.0000  38.0000   \n",
       "density               1359.0   0.996709   0.001869  0.99007   0.9956   0.9967   \n",
       "pH                    1359.0   3.309787   0.155036  2.74000   3.2100   3.3100   \n",
       "sulphates             1359.0   0.658705   0.170667  0.33000   0.5500   0.6200   \n",
       "alcohol               1359.0  10.432315   1.082065  8.40000   9.5000  10.2000   \n",
       "quality               1359.0   5.623252   0.823578  3.00000   5.0000   6.0000   \n",
       "\n",
       "                           75%        max  \n",
       "fixed acidity          9.20000   15.90000  \n",
       "volatile acidity       0.64000    1.58000  \n",
       "citric acid            0.43000    1.00000  \n",
       "residual sugar         2.60000   15.50000  \n",
       "chlorides              0.09100    0.61100  \n",
       "free sulfur dioxide   21.00000   72.00000  \n",
       "total sulfur dioxide  63.00000  289.00000  \n",
       "density                0.99782    1.00369  \n",
       "pH                     3.40000    4.01000  \n",
       "sulphates              0.73000    2.00000  \n",
       "alcohol               11.10000   14.90000  \n",
       "quality                6.00000    8.00000  "
      ]
     },
     "execution_count": 11,
     "metadata": {},
     "output_type": "execute_result"
    }
   ],
   "source": [
    "# see the statestical information about the numeric Variables.\n",
    "df.describe().T"
   ]
  },
  {
   "cell_type": "code",
   "execution_count": 12,
   "id": "85b4b0ed",
   "metadata": {},
   "outputs": [
    {
     "data": {
      "text/html": [
       "<div>\n",
       "<style scoped>\n",
       "    .dataframe tbody tr th:only-of-type {\n",
       "        vertical-align: middle;\n",
       "    }\n",
       "\n",
       "    .dataframe tbody tr th {\n",
       "        vertical-align: top;\n",
       "    }\n",
       "\n",
       "    .dataframe thead th {\n",
       "        text-align: right;\n",
       "    }\n",
       "</style>\n",
       "<table border=\"1\" class=\"dataframe\">\n",
       "  <thead>\n",
       "    <tr style=\"text-align: right;\">\n",
       "      <th></th>\n",
       "      <th>fixed acidity</th>\n",
       "      <th>volatile acidity</th>\n",
       "      <th>citric acid</th>\n",
       "      <th>residual sugar</th>\n",
       "      <th>chlorides</th>\n",
       "      <th>free sulfur dioxide</th>\n",
       "      <th>total sulfur dioxide</th>\n",
       "      <th>density</th>\n",
       "      <th>pH</th>\n",
       "      <th>sulphates</th>\n",
       "      <th>alcohol</th>\n",
       "      <th>quality</th>\n",
       "    </tr>\n",
       "  </thead>\n",
       "  <tbody>\n",
       "    <tr>\n",
       "      <th>fixed acidity</th>\n",
       "      <td>1.000000</td>\n",
       "      <td>-0.255124</td>\n",
       "      <td>0.667437</td>\n",
       "      <td>0.111025</td>\n",
       "      <td>0.085886</td>\n",
       "      <td>-0.140580</td>\n",
       "      <td>-0.103777</td>\n",
       "      <td>0.670195</td>\n",
       "      <td>-0.686685</td>\n",
       "      <td>0.190269</td>\n",
       "      <td>-0.061596</td>\n",
       "      <td>0.119024</td>\n",
       "    </tr>\n",
       "    <tr>\n",
       "      <th>volatile acidity</th>\n",
       "      <td>-0.255124</td>\n",
       "      <td>1.000000</td>\n",
       "      <td>-0.551248</td>\n",
       "      <td>-0.002449</td>\n",
       "      <td>0.055154</td>\n",
       "      <td>-0.020945</td>\n",
       "      <td>0.071701</td>\n",
       "      <td>0.023943</td>\n",
       "      <td>0.247111</td>\n",
       "      <td>-0.256948</td>\n",
       "      <td>-0.197812</td>\n",
       "      <td>-0.395214</td>\n",
       "    </tr>\n",
       "    <tr>\n",
       "      <th>citric acid</th>\n",
       "      <td>0.667437</td>\n",
       "      <td>-0.551248</td>\n",
       "      <td>1.000000</td>\n",
       "      <td>0.143892</td>\n",
       "      <td>0.210195</td>\n",
       "      <td>-0.048004</td>\n",
       "      <td>0.047358</td>\n",
       "      <td>0.357962</td>\n",
       "      <td>-0.550310</td>\n",
       "      <td>0.326062</td>\n",
       "      <td>0.105108</td>\n",
       "      <td>0.228057</td>\n",
       "    </tr>\n",
       "    <tr>\n",
       "      <th>residual sugar</th>\n",
       "      <td>0.111025</td>\n",
       "      <td>-0.002449</td>\n",
       "      <td>0.143892</td>\n",
       "      <td>1.000000</td>\n",
       "      <td>0.026656</td>\n",
       "      <td>0.160527</td>\n",
       "      <td>0.201038</td>\n",
       "      <td>0.324522</td>\n",
       "      <td>-0.083143</td>\n",
       "      <td>-0.011837</td>\n",
       "      <td>0.063281</td>\n",
       "      <td>0.013640</td>\n",
       "    </tr>\n",
       "    <tr>\n",
       "      <th>chlorides</th>\n",
       "      <td>0.085886</td>\n",
       "      <td>0.055154</td>\n",
       "      <td>0.210195</td>\n",
       "      <td>0.026656</td>\n",
       "      <td>1.000000</td>\n",
       "      <td>0.000749</td>\n",
       "      <td>0.045773</td>\n",
       "      <td>0.193592</td>\n",
       "      <td>-0.270893</td>\n",
       "      <td>0.394557</td>\n",
       "      <td>-0.223824</td>\n",
       "      <td>-0.130988</td>\n",
       "    </tr>\n",
       "    <tr>\n",
       "      <th>free sulfur dioxide</th>\n",
       "      <td>-0.140580</td>\n",
       "      <td>-0.020945</td>\n",
       "      <td>-0.048004</td>\n",
       "      <td>0.160527</td>\n",
       "      <td>0.000749</td>\n",
       "      <td>1.000000</td>\n",
       "      <td>0.667246</td>\n",
       "      <td>-0.018071</td>\n",
       "      <td>0.056631</td>\n",
       "      <td>0.054126</td>\n",
       "      <td>-0.080125</td>\n",
       "      <td>-0.050463</td>\n",
       "    </tr>\n",
       "    <tr>\n",
       "      <th>total sulfur dioxide</th>\n",
       "      <td>-0.103777</td>\n",
       "      <td>0.071701</td>\n",
       "      <td>0.047358</td>\n",
       "      <td>0.201038</td>\n",
       "      <td>0.045773</td>\n",
       "      <td>0.667246</td>\n",
       "      <td>1.000000</td>\n",
       "      <td>0.078141</td>\n",
       "      <td>-0.079257</td>\n",
       "      <td>0.035291</td>\n",
       "      <td>-0.217829</td>\n",
       "      <td>-0.177855</td>\n",
       "    </tr>\n",
       "    <tr>\n",
       "      <th>density</th>\n",
       "      <td>0.670195</td>\n",
       "      <td>0.023943</td>\n",
       "      <td>0.357962</td>\n",
       "      <td>0.324522</td>\n",
       "      <td>0.193592</td>\n",
       "      <td>-0.018071</td>\n",
       "      <td>0.078141</td>\n",
       "      <td>1.000000</td>\n",
       "      <td>-0.355617</td>\n",
       "      <td>0.146036</td>\n",
       "      <td>-0.504995</td>\n",
       "      <td>-0.184252</td>\n",
       "    </tr>\n",
       "    <tr>\n",
       "      <th>pH</th>\n",
       "      <td>-0.686685</td>\n",
       "      <td>0.247111</td>\n",
       "      <td>-0.550310</td>\n",
       "      <td>-0.083143</td>\n",
       "      <td>-0.270893</td>\n",
       "      <td>0.056631</td>\n",
       "      <td>-0.079257</td>\n",
       "      <td>-0.355617</td>\n",
       "      <td>1.000000</td>\n",
       "      <td>-0.214134</td>\n",
       "      <td>0.213418</td>\n",
       "      <td>-0.055245</td>\n",
       "    </tr>\n",
       "    <tr>\n",
       "      <th>sulphates</th>\n",
       "      <td>0.190269</td>\n",
       "      <td>-0.256948</td>\n",
       "      <td>0.326062</td>\n",
       "      <td>-0.011837</td>\n",
       "      <td>0.394557</td>\n",
       "      <td>0.054126</td>\n",
       "      <td>0.035291</td>\n",
       "      <td>0.146036</td>\n",
       "      <td>-0.214134</td>\n",
       "      <td>1.000000</td>\n",
       "      <td>0.091621</td>\n",
       "      <td>0.248835</td>\n",
       "    </tr>\n",
       "    <tr>\n",
       "      <th>alcohol</th>\n",
       "      <td>-0.061596</td>\n",
       "      <td>-0.197812</td>\n",
       "      <td>0.105108</td>\n",
       "      <td>0.063281</td>\n",
       "      <td>-0.223824</td>\n",
       "      <td>-0.080125</td>\n",
       "      <td>-0.217829</td>\n",
       "      <td>-0.504995</td>\n",
       "      <td>0.213418</td>\n",
       "      <td>0.091621</td>\n",
       "      <td>1.000000</td>\n",
       "      <td>0.480343</td>\n",
       "    </tr>\n",
       "    <tr>\n",
       "      <th>quality</th>\n",
       "      <td>0.119024</td>\n",
       "      <td>-0.395214</td>\n",
       "      <td>0.228057</td>\n",
       "      <td>0.013640</td>\n",
       "      <td>-0.130988</td>\n",
       "      <td>-0.050463</td>\n",
       "      <td>-0.177855</td>\n",
       "      <td>-0.184252</td>\n",
       "      <td>-0.055245</td>\n",
       "      <td>0.248835</td>\n",
       "      <td>0.480343</td>\n",
       "      <td>1.000000</td>\n",
       "    </tr>\n",
       "  </tbody>\n",
       "</table>\n",
       "</div>"
      ],
      "text/plain": [
       "                      fixed acidity  volatile acidity  citric acid  \\\n",
       "fixed acidity              1.000000         -0.255124     0.667437   \n",
       "volatile acidity          -0.255124          1.000000    -0.551248   \n",
       "citric acid                0.667437         -0.551248     1.000000   \n",
       "residual sugar             0.111025         -0.002449     0.143892   \n",
       "chlorides                  0.085886          0.055154     0.210195   \n",
       "free sulfur dioxide       -0.140580         -0.020945    -0.048004   \n",
       "total sulfur dioxide      -0.103777          0.071701     0.047358   \n",
       "density                    0.670195          0.023943     0.357962   \n",
       "pH                        -0.686685          0.247111    -0.550310   \n",
       "sulphates                  0.190269         -0.256948     0.326062   \n",
       "alcohol                   -0.061596         -0.197812     0.105108   \n",
       "quality                    0.119024         -0.395214     0.228057   \n",
       "\n",
       "                      residual sugar  chlorides  free sulfur dioxide  \\\n",
       "fixed acidity               0.111025   0.085886            -0.140580   \n",
       "volatile acidity           -0.002449   0.055154            -0.020945   \n",
       "citric acid                 0.143892   0.210195            -0.048004   \n",
       "residual sugar              1.000000   0.026656             0.160527   \n",
       "chlorides                   0.026656   1.000000             0.000749   \n",
       "free sulfur dioxide         0.160527   0.000749             1.000000   \n",
       "total sulfur dioxide        0.201038   0.045773             0.667246   \n",
       "density                     0.324522   0.193592            -0.018071   \n",
       "pH                         -0.083143  -0.270893             0.056631   \n",
       "sulphates                  -0.011837   0.394557             0.054126   \n",
       "alcohol                     0.063281  -0.223824            -0.080125   \n",
       "quality                     0.013640  -0.130988            -0.050463   \n",
       "\n",
       "                      total sulfur dioxide   density        pH  sulphates  \\\n",
       "fixed acidity                    -0.103777  0.670195 -0.686685   0.190269   \n",
       "volatile acidity                  0.071701  0.023943  0.247111  -0.256948   \n",
       "citric acid                       0.047358  0.357962 -0.550310   0.326062   \n",
       "residual sugar                    0.201038  0.324522 -0.083143  -0.011837   \n",
       "chlorides                         0.045773  0.193592 -0.270893   0.394557   \n",
       "free sulfur dioxide               0.667246 -0.018071  0.056631   0.054126   \n",
       "total sulfur dioxide              1.000000  0.078141 -0.079257   0.035291   \n",
       "density                           0.078141  1.000000 -0.355617   0.146036   \n",
       "pH                               -0.079257 -0.355617  1.000000  -0.214134   \n",
       "sulphates                         0.035291  0.146036 -0.214134   1.000000   \n",
       "alcohol                          -0.217829 -0.504995  0.213418   0.091621   \n",
       "quality                          -0.177855 -0.184252 -0.055245   0.248835   \n",
       "\n",
       "                       alcohol   quality  \n",
       "fixed acidity        -0.061596  0.119024  \n",
       "volatile acidity     -0.197812 -0.395214  \n",
       "citric acid           0.105108  0.228057  \n",
       "residual sugar        0.063281  0.013640  \n",
       "chlorides            -0.223824 -0.130988  \n",
       "free sulfur dioxide  -0.080125 -0.050463  \n",
       "total sulfur dioxide -0.217829 -0.177855  \n",
       "density              -0.504995 -0.184252  \n",
       "pH                    0.213418 -0.055245  \n",
       "sulphates             0.091621  0.248835  \n",
       "alcohol               1.000000  0.480343  \n",
       "quality               0.480343  1.000000  "
      ]
     },
     "execution_count": 12,
     "metadata": {},
     "output_type": "execute_result"
    }
   ],
   "source": [
    "# Cheack the correlation between different variables.\n",
    "df.corr()"
   ]
  },
  {
   "cell_type": "code",
   "execution_count": 13,
   "id": "dccb5675",
   "metadata": {},
   "outputs": [
    {
     "data": {
      "image/png": "[encoded data removed]",
      "text/plain": [
       "<Figure size 1500x1000 with 2 Axes>"
      ]
     },
     "metadata": {},
     "output_type": "display_data"
    }
   ],
   "source": [
    "# Finding correlation using heatmap\n",
    "plt.figure(figsize=(15,10))\n",
    "sns.heatmap(df.corr(), annot = True)\n",
    "plt.show()"
   ]
  },
  {
   "cell_type": "markdown",
   "id": "47ea1fa8",
   "metadata": {},
   "source": [
    "#### Variance Influation Factor:"
   ]
  },
  {
   "cell_type": "code",
   "execution_count": 14,
   "id": "34cbd761",
   "metadata": {},
   "outputs": [],
   "source": [
    "from statsmodels.stats.outliers_influence import variance_inflation_factor"
   ]
  },
  {
   "cell_type": "code",
   "execution_count": 15,
   "id": "95ea7401",
   "metadata": {},
   "outputs": [
    {
     "data": {
      "text/html": [
       "<div>\n",
       "<style scoped>\n",
       "    .dataframe tbody tr th:only-of-type {\n",
       "        vertical-align: middle;\n",
       "    }\n",
       "\n",
       "    .dataframe tbody tr th {\n",
       "        vertical-align: top;\n",
       "    }\n",
       "\n",
       "    .dataframe thead th {\n",
       "        text-align: right;\n",
       "    }\n",
       "</style>\n",
       "<table border=\"1\" class=\"dataframe\">\n",
       "  <thead>\n",
       "    <tr style=\"text-align: right;\">\n",
       "      <th></th>\n",
       "      <th>variables</th>\n",
       "      <th>vif</th>\n",
       "    </tr>\n",
       "  </thead>\n",
       "  <tbody>\n",
       "    <tr>\n",
       "      <th>0</th>\n",
       "      <td>fixed acidity</td>\n",
       "      <td>75.023032</td>\n",
       "    </tr>\n",
       "    <tr>\n",
       "      <th>1</th>\n",
       "      <td>volatile acidity</td>\n",
       "      <td>16.460387</td>\n",
       "    </tr>\n",
       "    <tr>\n",
       "      <th>2</th>\n",
       "      <td>citric acid</td>\n",
       "      <td>9.188892</td>\n",
       "    </tr>\n",
       "    <tr>\n",
       "      <th>3</th>\n",
       "      <td>residual sugar</td>\n",
       "      <td>4.915733</td>\n",
       "    </tr>\n",
       "    <tr>\n",
       "      <th>4</th>\n",
       "      <td>chlorides</td>\n",
       "      <td>6.349793</td>\n",
       "    </tr>\n",
       "    <tr>\n",
       "      <th>5</th>\n",
       "      <td>free sulfur dioxide</td>\n",
       "      <td>6.432241</td>\n",
       "    </tr>\n",
       "    <tr>\n",
       "      <th>6</th>\n",
       "      <td>total sulfur dioxide</td>\n",
       "      <td>6.543918</td>\n",
       "    </tr>\n",
       "    <tr>\n",
       "      <th>7</th>\n",
       "      <td>density</td>\n",
       "      <td>1500.387873</td>\n",
       "    </tr>\n",
       "    <tr>\n",
       "      <th>8</th>\n",
       "      <td>pH</td>\n",
       "      <td>1095.732046</td>\n",
       "    </tr>\n",
       "    <tr>\n",
       "      <th>9</th>\n",
       "      <td>sulphates</td>\n",
       "      <td>21.946341</td>\n",
       "    </tr>\n",
       "    <tr>\n",
       "      <th>10</th>\n",
       "      <td>alcohol</td>\n",
       "      <td>123.097449</td>\n",
       "    </tr>\n",
       "  </tbody>\n",
       "</table>\n",
       "</div>"
      ],
      "text/plain": [
       "               variables          vif\n",
       "0          fixed acidity    75.023032\n",
       "1       volatile acidity    16.460387\n",
       "2            citric acid     9.188892\n",
       "3         residual sugar     4.915733\n",
       "4              chlorides     6.349793\n",
       "5    free sulfur dioxide     6.432241\n",
       "6   total sulfur dioxide     6.543918\n",
       "7                density  1500.387873\n",
       "8                     pH  1095.732046\n",
       "9              sulphates    21.946341\n",
       "10               alcohol   123.097449"
      ]
     },
     "execution_count": 15,
     "metadata": {},
     "output_type": "execute_result"
    }
   ],
   "source": [
    "# Check the multicolinearity by using VIF\n",
    "df1 = df.drop(['quality'],axis=1)\n",
    "vif=pd.DataFrame({'variables':df1.columns})\n",
    "vif['vif']=[variance_inflation_factor(df1.values,i)\n",
    "           for i in range(len(df1.columns))]\n",
    "vif"
   ]
  },
  {
   "cell_type": "markdown",
   "id": "e2ba05c0",
   "metadata": {},
   "source": [
    "#### Deal with Multicollinearity:"
   ]
  },
  {
   "cell_type": "code",
   "execution_count": 16,
   "id": "184318b0",
   "metadata": {},
   "outputs": [],
   "source": [
    "# Droping the highly correlated columns.\n",
    "df.drop(['density','pH'], axis = 1, inplace= True)"
   ]
  },
  {
   "cell_type": "code",
   "execution_count": 17,
   "id": "799b2206",
   "metadata": {},
   "outputs": [
    {
     "data": {
      "text/html": [
       "<div>\n",
       "<style scoped>\n",
       "    .dataframe tbody tr th:only-of-type {\n",
       "        vertical-align: middle;\n",
       "    }\n",
       "\n",
       "    .dataframe tbody tr th {\n",
       "        vertical-align: top;\n",
       "    }\n",
       "\n",
       "    .dataframe thead th {\n",
       "        text-align: right;\n",
       "    }\n",
       "</style>\n",
       "<table border=\"1\" class=\"dataframe\">\n",
       "  <thead>\n",
       "    <tr style=\"text-align: right;\">\n",
       "      <th></th>\n",
       "      <th>fixed acidity</th>\n",
       "      <th>volatile acidity</th>\n",
       "      <th>citric acid</th>\n",
       "      <th>residual sugar</th>\n",
       "      <th>chlorides</th>\n",
       "      <th>free sulfur dioxide</th>\n",
       "      <th>total sulfur dioxide</th>\n",
       "      <th>sulphates</th>\n",
       "      <th>alcohol</th>\n",
       "      <th>quality</th>\n",
       "    </tr>\n",
       "  </thead>\n",
       "  <tbody>\n",
       "    <tr>\n",
       "      <th>0</th>\n",
       "      <td>7.4</td>\n",
       "      <td>0.700</td>\n",
       "      <td>0.00</td>\n",
       "      <td>1.9</td>\n",
       "      <td>0.076</td>\n",
       "      <td>11.0</td>\n",
       "      <td>34.0</td>\n",
       "      <td>0.56</td>\n",
       "      <td>9.4</td>\n",
       "      <td>5</td>\n",
       "    </tr>\n",
       "    <tr>\n",
       "      <th>1</th>\n",
       "      <td>7.8</td>\n",
       "      <td>0.880</td>\n",
       "      <td>0.00</td>\n",
       "      <td>2.6</td>\n",
       "      <td>0.098</td>\n",
       "      <td>25.0</td>\n",
       "      <td>67.0</td>\n",
       "      <td>0.68</td>\n",
       "      <td>9.8</td>\n",
       "      <td>5</td>\n",
       "    </tr>\n",
       "    <tr>\n",
       "      <th>2</th>\n",
       "      <td>7.8</td>\n",
       "      <td>0.760</td>\n",
       "      <td>0.04</td>\n",
       "      <td>2.3</td>\n",
       "      <td>0.092</td>\n",
       "      <td>15.0</td>\n",
       "      <td>54.0</td>\n",
       "      <td>0.65</td>\n",
       "      <td>9.8</td>\n",
       "      <td>5</td>\n",
       "    </tr>\n",
       "    <tr>\n",
       "      <th>3</th>\n",
       "      <td>11.2</td>\n",
       "      <td>0.280</td>\n",
       "      <td>0.56</td>\n",
       "      <td>1.9</td>\n",
       "      <td>0.075</td>\n",
       "      <td>17.0</td>\n",
       "      <td>60.0</td>\n",
       "      <td>0.58</td>\n",
       "      <td>9.8</td>\n",
       "      <td>6</td>\n",
       "    </tr>\n",
       "    <tr>\n",
       "      <th>5</th>\n",
       "      <td>7.4</td>\n",
       "      <td>0.660</td>\n",
       "      <td>0.00</td>\n",
       "      <td>1.8</td>\n",
       "      <td>0.075</td>\n",
       "      <td>13.0</td>\n",
       "      <td>40.0</td>\n",
       "      <td>0.56</td>\n",
       "      <td>9.4</td>\n",
       "      <td>5</td>\n",
       "    </tr>\n",
       "    <tr>\n",
       "      <th>...</th>\n",
       "      <td>...</td>\n",
       "      <td>...</td>\n",
       "      <td>...</td>\n",
       "      <td>...</td>\n",
       "      <td>...</td>\n",
       "      <td>...</td>\n",
       "      <td>...</td>\n",
       "      <td>...</td>\n",
       "      <td>...</td>\n",
       "      <td>...</td>\n",
       "    </tr>\n",
       "    <tr>\n",
       "      <th>1593</th>\n",
       "      <td>6.8</td>\n",
       "      <td>0.620</td>\n",
       "      <td>0.08</td>\n",
       "      <td>1.9</td>\n",
       "      <td>0.068</td>\n",
       "      <td>28.0</td>\n",
       "      <td>38.0</td>\n",
       "      <td>0.82</td>\n",
       "      <td>9.5</td>\n",
       "      <td>6</td>\n",
       "    </tr>\n",
       "    <tr>\n",
       "      <th>1594</th>\n",
       "      <td>6.2</td>\n",
       "      <td>0.600</td>\n",
       "      <td>0.08</td>\n",
       "      <td>2.0</td>\n",
       "      <td>0.090</td>\n",
       "      <td>32.0</td>\n",
       "      <td>44.0</td>\n",
       "      <td>0.58</td>\n",
       "      <td>10.5</td>\n",
       "      <td>5</td>\n",
       "    </tr>\n",
       "    <tr>\n",
       "      <th>1595</th>\n",
       "      <td>5.9</td>\n",
       "      <td>0.550</td>\n",
       "      <td>0.10</td>\n",
       "      <td>2.2</td>\n",
       "      <td>0.062</td>\n",
       "      <td>39.0</td>\n",
       "      <td>51.0</td>\n",
       "      <td>0.76</td>\n",
       "      <td>11.2</td>\n",
       "      <td>6</td>\n",
       "    </tr>\n",
       "    <tr>\n",
       "      <th>1597</th>\n",
       "      <td>5.9</td>\n",
       "      <td>0.645</td>\n",
       "      <td>0.12</td>\n",
       "      <td>2.0</td>\n",
       "      <td>0.075</td>\n",
       "      <td>32.0</td>\n",
       "      <td>44.0</td>\n",
       "      <td>0.71</td>\n",
       "      <td>10.2</td>\n",
       "      <td>5</td>\n",
       "    </tr>\n",
       "    <tr>\n",
       "      <th>1598</th>\n",
       "      <td>6.0</td>\n",
       "      <td>0.310</td>\n",
       "      <td>0.47</td>\n",
       "      <td>3.6</td>\n",
       "      <td>0.067</td>\n",
       "      <td>18.0</td>\n",
       "      <td>42.0</td>\n",
       "      <td>0.66</td>\n",
       "      <td>11.0</td>\n",
       "      <td>6</td>\n",
       "    </tr>\n",
       "  </tbody>\n",
       "</table>\n",
       "<p>1359 rows × 10 columns</p>\n",
       "</div>"
      ],
      "text/plain": [
       "      fixed acidity  volatile acidity  citric acid  residual sugar  chlorides  \\\n",
       "0               7.4             0.700         0.00             1.9      0.076   \n",
       "1               7.8             0.880         0.00             2.6      0.098   \n",
       "2               7.8             0.760         0.04             2.3      0.092   \n",
       "3              11.2             0.280         0.56             1.9      0.075   \n",
       "5               7.4             0.660         0.00             1.8      0.075   \n",
       "...             ...               ...          ...             ...        ...   \n",
       "1593            6.8             0.620         0.08             1.9      0.068   \n",
       "1594            6.2             0.600         0.08             2.0      0.090   \n",
       "1595            5.9             0.550         0.10             2.2      0.062   \n",
       "1597            5.9             0.645         0.12             2.0      0.075   \n",
       "1598            6.0             0.310         0.47             3.6      0.067   \n",
       "\n",
       "      free sulfur dioxide  total sulfur dioxide  sulphates  alcohol  quality  \n",
       "0                    11.0                  34.0       0.56      9.4        5  \n",
       "1                    25.0                  67.0       0.68      9.8        5  \n",
       "2                    15.0                  54.0       0.65      9.8        5  \n",
       "3                    17.0                  60.0       0.58      9.8        6  \n",
       "5                    13.0                  40.0       0.56      9.4        5  \n",
       "...                   ...                   ...        ...      ...      ...  \n",
       "1593                 28.0                  38.0       0.82      9.5        6  \n",
       "1594                 32.0                  44.0       0.58     10.5        5  \n",
       "1595                 39.0                  51.0       0.76     11.2        6  \n",
       "1597                 32.0                  44.0       0.71     10.2        5  \n",
       "1598                 18.0                  42.0       0.66     11.0        6  \n",
       "\n",
       "[1359 rows x 10 columns]"
      ]
     },
     "execution_count": 17,
     "metadata": {},
     "output_type": "execute_result"
    }
   ],
   "source": [
    "df"
   ]
  },
  {
   "cell_type": "code",
   "execution_count": 18,
   "id": "cb0aa1cf",
   "metadata": {},
   "outputs": [
    {
     "data": {
      "image/png": "[encoded data removed]",
      "text/plain": [
       "<Figure size 1500x1000 with 9 Axes>"
      ]
     },
     "metadata": {},
     "output_type": "display_data"
    }
   ],
   "source": [
    "# See the destribution of the data\n",
    "plt.figure(figsize=(15,10))\n",
    "for i,cols in enumerate(df.columns[:-1]):\n",
    "    plt.subplot(6,5,i+1)\n",
    "    sns.histplot(x=df[cols])\n",
    "    plt.title(f\"{cols}\")\n",
    "plt.tight_layout()\n",
    "plt.show()"
   ]
  },
  {
   "cell_type": "markdown",
   "id": "88bf0cda",
   "metadata": {},
   "source": [
    "#### Outlier Detection:\n"
   ]
  },
  {
   "cell_type": "code",
   "execution_count": 19,
   "id": "886bf0aa",
   "metadata": {},
   "outputs": [
    {
     "data": {
      "image/png": "[encoded data removed]",
      "text/plain": [
       "<Figure size 1500x1000 with 9 Axes>"
      ]
     },
     "metadata": {},
     "output_type": "display_data"
    }
   ],
   "source": [
    "# See the boxplot to detecr the outliers\n",
    "plt.figure(figsize=(15,10))\n",
    "for i,cols in enumerate(df.columns[:-1]):\n",
    "    plt.subplot(6,5,i+1)\n",
    "    sns.boxplot(x=df[cols])\n",
    "    plt.title(f\"{cols}\")\n",
    "plt.tight_layout()\n",
    "plt.show()"
   ]
  },
  {
   "cell_type": "markdown",
   "id": "abe8d699",
   "metadata": {},
   "source": [
    "#### Removing the outliers:"
   ]
  },
  {
   "cell_type": "code",
   "execution_count": 20,
   "id": "2f0b441e",
   "metadata": {},
   "outputs": [],
   "source": [
    "# remove oultier\n",
    "for cols in df.columns:\n",
    "    df[cols]=df[cols].clip(lower=df[cols].quantile(0.05),upper=df[cols].quantile(0.85))"
   ]
  },
  {
   "cell_type": "code",
   "execution_count": 21,
   "id": "b48cc4a3",
   "metadata": {},
   "outputs": [
    {
     "data": {
      "image/png": "[encoded data removed]",
      "text/plain": [
       "<Figure size 1500x1000 with 9 Axes>"
      ]
     },
     "metadata": {},
     "output_type": "display_data"
    }
   ],
   "source": [
    "# Check boxplot either outliers remove or not\n",
    "plt.figure(figsize=(15,10))\n",
    "for i,cols in enumerate(df.columns[:-1]):\n",
    "    plt.subplot(6,5,i+1)\n",
    "    sns.boxplot(x=df[cols])\n",
    "    plt.title(f\"{cols}\")\n",
    "plt.tight_layout()\n",
    "plt.show()"
   ]
  },
  {
   "cell_type": "markdown",
   "id": "64f3d833",
   "metadata": {},
   "source": [
    "#### Seprate the independent and dependent variables:"
   ]
  },
  {
   "cell_type": "code",
   "execution_count": 22,
   "id": "e617adfb",
   "metadata": {},
   "outputs": [],
   "source": [
    "x = df.drop(columns='quality')"
   ]
  },
  {
   "cell_type": "code",
   "execution_count": 23,
   "id": "b6b4e9e1",
   "metadata": {},
   "outputs": [
    {
     "data": {
      "text/html": [
       "<div>\n",
       "<style scoped>\n",
       "    .dataframe tbody tr th:only-of-type {\n",
       "        vertical-align: middle;\n",
       "    }\n",
       "\n",
       "    .dataframe tbody tr th {\n",
       "        vertical-align: top;\n",
       "    }\n",
       "\n",
       "    .dataframe thead th {\n",
       "        text-align: right;\n",
       "    }\n",
       "</style>\n",
       "<table border=\"1\" class=\"dataframe\">\n",
       "  <thead>\n",
       "    <tr style=\"text-align: right;\">\n",
       "      <th></th>\n",
       "      <th>fixed acidity</th>\n",
       "      <th>volatile acidity</th>\n",
       "      <th>citric acid</th>\n",
       "      <th>residual sugar</th>\n",
       "      <th>chlorides</th>\n",
       "      <th>free sulfur dioxide</th>\n",
       "      <th>total sulfur dioxide</th>\n",
       "      <th>sulphates</th>\n",
       "      <th>alcohol</th>\n",
       "    </tr>\n",
       "  </thead>\n",
       "  <tbody>\n",
       "    <tr>\n",
       "      <th>0</th>\n",
       "      <td>7.40</td>\n",
       "      <td>0.700</td>\n",
       "      <td>0.00</td>\n",
       "      <td>1.900</td>\n",
       "      <td>0.076</td>\n",
       "      <td>11.0</td>\n",
       "      <td>34.0</td>\n",
       "      <td>0.56</td>\n",
       "      <td>9.4</td>\n",
       "    </tr>\n",
       "    <tr>\n",
       "      <th>1</th>\n",
       "      <td>7.80</td>\n",
       "      <td>0.700</td>\n",
       "      <td>0.00</td>\n",
       "      <td>2.600</td>\n",
       "      <td>0.098</td>\n",
       "      <td>25.0</td>\n",
       "      <td>67.0</td>\n",
       "      <td>0.68</td>\n",
       "      <td>9.8</td>\n",
       "    </tr>\n",
       "    <tr>\n",
       "      <th>2</th>\n",
       "      <td>7.80</td>\n",
       "      <td>0.700</td>\n",
       "      <td>0.04</td>\n",
       "      <td>2.300</td>\n",
       "      <td>0.092</td>\n",
       "      <td>15.0</td>\n",
       "      <td>54.0</td>\n",
       "      <td>0.65</td>\n",
       "      <td>9.8</td>\n",
       "    </tr>\n",
       "    <tr>\n",
       "      <th>3</th>\n",
       "      <td>10.13</td>\n",
       "      <td>0.280</td>\n",
       "      <td>0.49</td>\n",
       "      <td>1.900</td>\n",
       "      <td>0.075</td>\n",
       "      <td>17.0</td>\n",
       "      <td>60.0</td>\n",
       "      <td>0.58</td>\n",
       "      <td>9.8</td>\n",
       "    </tr>\n",
       "    <tr>\n",
       "      <th>5</th>\n",
       "      <td>7.40</td>\n",
       "      <td>0.660</td>\n",
       "      <td>0.00</td>\n",
       "      <td>1.800</td>\n",
       "      <td>0.075</td>\n",
       "      <td>13.0</td>\n",
       "      <td>40.0</td>\n",
       "      <td>0.56</td>\n",
       "      <td>9.4</td>\n",
       "    </tr>\n",
       "    <tr>\n",
       "      <th>...</th>\n",
       "      <td>...</td>\n",
       "      <td>...</td>\n",
       "      <td>...</td>\n",
       "      <td>...</td>\n",
       "      <td>...</td>\n",
       "      <td>...</td>\n",
       "      <td>...</td>\n",
       "      <td>...</td>\n",
       "      <td>...</td>\n",
       "    </tr>\n",
       "    <tr>\n",
       "      <th>1593</th>\n",
       "      <td>6.80</td>\n",
       "      <td>0.620</td>\n",
       "      <td>0.08</td>\n",
       "      <td>1.900</td>\n",
       "      <td>0.068</td>\n",
       "      <td>27.0</td>\n",
       "      <td>38.0</td>\n",
       "      <td>0.80</td>\n",
       "      <td>9.5</td>\n",
       "    </tr>\n",
       "    <tr>\n",
       "      <th>1594</th>\n",
       "      <td>6.20</td>\n",
       "      <td>0.600</td>\n",
       "      <td>0.08</td>\n",
       "      <td>2.000</td>\n",
       "      <td>0.090</td>\n",
       "      <td>27.0</td>\n",
       "      <td>44.0</td>\n",
       "      <td>0.58</td>\n",
       "      <td>10.5</td>\n",
       "    </tr>\n",
       "    <tr>\n",
       "      <th>1595</th>\n",
       "      <td>6.10</td>\n",
       "      <td>0.550</td>\n",
       "      <td>0.10</td>\n",
       "      <td>2.200</td>\n",
       "      <td>0.062</td>\n",
       "      <td>27.0</td>\n",
       "      <td>51.0</td>\n",
       "      <td>0.76</td>\n",
       "      <td>11.2</td>\n",
       "    </tr>\n",
       "    <tr>\n",
       "      <th>1597</th>\n",
       "      <td>6.10</td>\n",
       "      <td>0.645</td>\n",
       "      <td>0.12</td>\n",
       "      <td>2.000</td>\n",
       "      <td>0.075</td>\n",
       "      <td>27.0</td>\n",
       "      <td>44.0</td>\n",
       "      <td>0.71</td>\n",
       "      <td>10.2</td>\n",
       "    </tr>\n",
       "    <tr>\n",
       "      <th>1598</th>\n",
       "      <td>6.10</td>\n",
       "      <td>0.310</td>\n",
       "      <td>0.47</td>\n",
       "      <td>2.965</td>\n",
       "      <td>0.067</td>\n",
       "      <td>18.0</td>\n",
       "      <td>42.0</td>\n",
       "      <td>0.66</td>\n",
       "      <td>11.0</td>\n",
       "    </tr>\n",
       "  </tbody>\n",
       "</table>\n",
       "<p>1359 rows × 9 columns</p>\n",
       "</div>"
      ],
      "text/plain": [
       "      fixed acidity  volatile acidity  citric acid  residual sugar  chlorides  \\\n",
       "0              7.40             0.700         0.00           1.900      0.076   \n",
       "1              7.80             0.700         0.00           2.600      0.098   \n",
       "2              7.80             0.700         0.04           2.300      0.092   \n",
       "3             10.13             0.280         0.49           1.900      0.075   \n",
       "5              7.40             0.660         0.00           1.800      0.075   \n",
       "...             ...               ...          ...             ...        ...   \n",
       "1593           6.80             0.620         0.08           1.900      0.068   \n",
       "1594           6.20             0.600         0.08           2.000      0.090   \n",
       "1595           6.10             0.550         0.10           2.200      0.062   \n",
       "1597           6.10             0.645         0.12           2.000      0.075   \n",
       "1598           6.10             0.310         0.47           2.965      0.067   \n",
       "\n",
       "      free sulfur dioxide  total sulfur dioxide  sulphates  alcohol  \n",
       "0                    11.0                  34.0       0.56      9.4  \n",
       "1                    25.0                  67.0       0.68      9.8  \n",
       "2                    15.0                  54.0       0.65      9.8  \n",
       "3                    17.0                  60.0       0.58      9.8  \n",
       "5                    13.0                  40.0       0.56      9.4  \n",
       "...                   ...                   ...        ...      ...  \n",
       "1593                 27.0                  38.0       0.80      9.5  \n",
       "1594                 27.0                  44.0       0.58     10.5  \n",
       "1595                 27.0                  51.0       0.76     11.2  \n",
       "1597                 27.0                  44.0       0.71     10.2  \n",
       "1598                 18.0                  42.0       0.66     11.0  \n",
       "\n",
       "[1359 rows x 9 columns]"
      ]
     },
     "execution_count": 23,
     "metadata": {},
     "output_type": "execute_result"
    }
   ],
   "source": [
    "x"
   ]
  },
  {
   "cell_type": "code",
   "execution_count": 24,
   "id": "f3775c4c",
   "metadata": {},
   "outputs": [
    {
     "data": {
      "text/plain": [
       "0       5\n",
       "1       5\n",
       "2       5\n",
       "3       6\n",
       "5       5\n",
       "       ..\n",
       "1593    6\n",
       "1594    5\n",
       "1595    6\n",
       "1597    5\n",
       "1598    6\n",
       "Name: quality, Length: 1359, dtype: int64"
      ]
     },
     "execution_count": 24,
     "metadata": {},
     "output_type": "execute_result"
    }
   ],
   "source": [
    "y = df.quality\n",
    "y"
   ]
  },
  {
   "cell_type": "markdown",
   "id": "d510f3a3",
   "metadata": {},
   "source": [
    "#### Train Test Split:\n"
   ]
  },
  {
   "cell_type": "code",
   "execution_count": 25,
   "id": "2313620e",
   "metadata": {},
   "outputs": [],
   "source": [
    "x_train , x_test, y_train,y_test = train_test_split(x,y,test_size = .25,random_state = 30)"
   ]
  },
  {
   "cell_type": "markdown",
   "id": "78e79f6f",
   "metadata": {},
   "source": [
    "### Building Model"
   ]
  },
  {
   "cell_type": "markdown",
   "id": "4363b8ec",
   "metadata": {},
   "source": [
    "#### Logistic Regression:"
   ]
  },
  {
   "cell_type": "code",
   "execution_count": 26,
   "id": "20d5c633",
   "metadata": {},
   "outputs": [
    {
     "data": {
      "text/html": [
       "<style>#sk-container-id-1 {color: black;}#sk-container-id-1 pre{padding: 0;}#sk-container-id-1 div.sk-toggleable {background-color: white;}#sk-container-id-1 label.sk-toggleable__label {cursor: pointer;display: block;width: 100%;margin-bottom: 0;padding: 0.3em;box-sizing: border-box;text-align: center;}#sk-container-id-1 label.sk-toggleable__label-arrow:before {content: \"▸\";float: left;margin-right: 0.25em;color: #696969;}#sk-container-id-1 label.sk-toggleable__label-arrow:hover:before {color: black;}#sk-container-id-1 div.sk-estimator:hover label.sk-toggleable__label-arrow:before {color: black;}#sk-container-id-1 div.sk-toggleable__content {max-height: 0;max-width: 0;overflow: hidden;text-align: left;background-color: #f0f8ff;}#sk-container-id-1 div.sk-toggleable__content pre {margin: 0.2em;color: black;border-radius: 0.25em;background-color: #f0f8ff;}#sk-container-id-1 input.sk-toggleable__control:checked~div.sk-toggleable__content {max-height: 200px;max-width: 100%;overflow: auto;}#sk-container-id-1 input.sk-toggleable__control:checked~label.sk-toggleable__label-arrow:before {content: \"▾\";}#sk-container-id-1 div.sk-estimator input.sk-toggleable__control:checked~label.sk-toggleable__label {background-color: #d4ebff;}#sk-container-id-1 div.sk-label input.sk-toggleable__control:checked~label.sk-toggleable__label {background-color: #d4ebff;}#sk-container-id-1 input.sk-hidden--visually {border: 0;clip: rect(1px 1px 1px 1px);clip: rect(1px, 1px, 1px, 1px);height: 1px;margin: -1px;overflow: hidden;padding: 0;position: absolute;width: 1px;}#sk-container-id-1 div.sk-estimator {font-family: monospace;background-color: #f0f8ff;border: 1px dotted black;border-radius: 0.25em;box-sizing: border-box;margin-bottom: 0.5em;}#sk-container-id-1 div.sk-estimator:hover {background-color: #d4ebff;}#sk-container-id-1 div.sk-parallel-item::after {content: \"\";width: 100%;border-bottom: 1px solid gray;flex-grow: 1;}#sk-container-id-1 div.sk-label:hover label.sk-toggleable__label {background-color: #d4ebff;}#sk-container-id-1 div.sk-serial::before {content: \"\";position: absolute;border-left: 1px solid gray;box-sizing: border-box;top: 0;bottom: 0;left: 50%;z-index: 0;}#sk-container-id-1 div.sk-serial {display: flex;flex-direction: column;align-items: center;background-color: white;padding-right: 0.2em;padding-left: 0.2em;position: relative;}#sk-container-id-1 div.sk-item {position: relative;z-index: 1;}#sk-container-id-1 div.sk-parallel {display: flex;align-items: stretch;justify-content: center;background-color: white;position: relative;}#sk-container-id-1 div.sk-item::before, #sk-container-id-1 div.sk-parallel-item::before {content: \"\";position: absolute;border-left: 1px solid gray;box-sizing: border-box;top: 0;bottom: 0;left: 50%;z-index: -1;}#sk-container-id-1 div.sk-parallel-item {display: flex;flex-direction: column;z-index: 1;position: relative;background-color: white;}#sk-container-id-1 div.sk-parallel-item:first-child::after {align-self: flex-end;width: 50%;}#sk-container-id-1 div.sk-parallel-item:last-child::after {align-self: flex-start;width: 50%;}#sk-container-id-1 div.sk-parallel-item:only-child::after {width: 0;}#sk-container-id-1 div.sk-dashed-wrapped {border: 1px dashed gray;margin: 0 0.4em 0.5em 0.4em;box-sizing: border-box;padding-bottom: 0.4em;background-color: white;}#sk-container-id-1 div.sk-label label {font-family: monospace;font-weight: bold;display: inline-block;line-height: 1.2em;}#sk-container-id-1 div.sk-label-container {text-align: center;}#sk-container-id-1 div.sk-container {/* jupyter's `normalize.less` sets `[hidden] { display: none; }` but bootstrap.min.css set `[hidden] { display: none !important; }` so we also need the `!important` here to be able to override the default hidden behavior on the sphinx rendered scikit-learn.org. See: https://github.com/scikit-learn/scikit-learn/issues/21755 */display: inline-block !important;position: relative;}#sk-container-id-1 div.sk-text-repr-fallback {display: none;}</style><div id=\"sk-container-id-1\" class=\"sk-top-container\"><div class=\"sk-text-repr-fallback\"><pre>LogisticRegression()</pre><b>In a Jupyter environment, please rerun this cell to show the HTML representation or trust the notebook. <br />On GitHub, the HTML representation is unable to render, please try loading this page with nbviewer.org.</b></div><div class=\"sk-container\" hidden><div class=\"sk-item\"><div class=\"sk-estimator sk-toggleable\"><input class=\"sk-toggleable__control sk-hidden--visually\" id=\"sk-estimator-id-1\" type=\"checkbox\" checked><label for=\"sk-estimator-id-1\" class=\"sk-toggleable__label sk-toggleable__label-arrow\">LogisticRegression</label><div class=\"sk-toggleable__content\"><pre>LogisticRegression()</pre></div></div></div></div></div>"
      ],
      "text/plain": [
       "LogisticRegression()"
      ]
     },
     "execution_count": 26,
     "metadata": {},
     "output_type": "execute_result"
    }
   ],
   "source": [
    "from sklearn.linear_model import LogisticRegression\n",
    "lg=LogisticRegression()\n",
    "lg.fit(x_train,y_train)"
   ]
  },
  {
   "cell_type": "code",
   "execution_count": 27,
   "id": "8f19e6a2",
   "metadata": {},
   "outputs": [
    {
     "data": {
      "text/plain": [
       "array([5, 6, 5, 6, 5, 5, 6, 5, 5, 6, 5, 6, 6, 6, 6, 5, 6, 6, 6, 5, 5, 6,\n",
       "       6, 6, 5, 6, 6, 5, 5, 5, 5, 6, 5, 6, 6, 5, 5, 6, 5, 6, 6, 6, 5, 6,\n",
       "       5, 6, 5, 5, 5, 5, 6, 5, 5, 5, 6, 6, 5, 6, 5, 6, 6, 5, 5, 6, 6, 6,\n",
       "       5, 5, 5, 6, 5, 6, 5, 6, 6, 6, 5, 5, 6, 6, 6, 6, 5, 6, 6, 5, 6, 6,\n",
       "       6, 5, 5, 6, 5, 5, 6, 6, 6, 5, 6, 6, 5, 6, 5, 5, 5, 6, 5, 5, 5, 5,\n",
       "       6, 6, 6, 6, 5, 5, 6, 6, 5, 5, 5, 6, 6, 6, 5, 6, 6, 6, 6, 5, 5, 6,\n",
       "       6, 6, 6, 6, 5, 5, 6, 6, 6, 5, 5, 5, 6, 5, 6, 5, 5, 6, 5, 6, 5, 6,\n",
       "       5, 6, 5, 5, 6, 5, 6, 5, 5, 6, 5, 5, 6, 5, 5, 6, 6, 5, 5, 6, 6, 6,\n",
       "       6, 5, 6, 6, 6, 6, 6, 6, 5, 6, 5, 5, 6, 6, 6, 5, 6, 5, 5, 6, 6, 6,\n",
       "       6, 6, 5, 5, 5, 5, 6, 6, 6, 6, 5, 6, 5, 6, 5, 6, 6, 5, 6, 6, 6, 6,\n",
       "       5, 6, 6, 6, 6, 6, 6, 5, 6, 5, 5, 5, 6, 6, 5, 5, 5, 6, 6, 6, 6, 6,\n",
       "       5, 5, 5, 6, 5, 6, 5, 6, 5, 6, 5, 5, 6, 6, 5, 5, 5, 6, 5, 5, 6, 5,\n",
       "       6, 6, 6, 5, 5, 5, 6, 5, 6, 5, 6, 6, 6, 5, 6, 6, 6, 6, 5, 6, 6, 6,\n",
       "       6, 6, 6, 6, 5, 5, 5, 5, 6, 6, 6, 6, 5, 5, 5, 5, 5, 5, 5, 6, 6, 6,\n",
       "       5, 5, 6, 5, 6, 6, 5, 5, 5, 6, 5, 6, 6, 6, 6, 5, 5, 5, 6, 5, 6, 6,\n",
       "       5, 5, 6, 6, 6, 5, 6, 5, 6, 5])"
      ]
     },
     "execution_count": 27,
     "metadata": {},
     "output_type": "execute_result"
    }
   ],
   "source": [
    "y_pred=lg.predict(x_test)\n",
    "y_pred"
   ]
  },
  {
   "cell_type": "code",
   "execution_count": 28,
   "id": "866739fa",
   "metadata": {},
   "outputs": [
    {
     "data": {
      "text/plain": [
       "0.7529411764705882"
      ]
     },
     "execution_count": 28,
     "metadata": {},
     "output_type": "execute_result"
    }
   ],
   "source": [
    "lg.score(x_test,y_test)"
   ]
  },
  {
   "cell_type": "code",
   "execution_count": 29,
   "id": "f6241f1f",
   "metadata": {},
   "outputs": [
    {
     "data": {
      "text/plain": [
       "0.7419038272816487"
      ]
     },
     "execution_count": 29,
     "metadata": {},
     "output_type": "execute_result"
    }
   ],
   "source": [
    "lg.score(x_train,y_train)"
   ]
  },
  {
   "cell_type": "markdown",
   "id": "95c12683",
   "metadata": {},
   "source": [
    "#### Decision Tree:"
   ]
  },
  {
   "cell_type": "code",
   "execution_count": 30,
   "id": "4efa7e65",
   "metadata": {},
   "outputs": [],
   "source": [
    "dt_model = DecisionTreeClassifier()"
   ]
  },
  {
   "cell_type": "code",
   "execution_count": 31,
   "id": "edbd0d38",
   "metadata": {},
   "outputs": [
    {
     "data": {
      "text/html": [
       "<style>#sk-container-id-2 {color: black;}#sk-container-id-2 pre{padding: 0;}#sk-container-id-2 div.sk-toggleable {background-color: white;}#sk-container-id-2 label.sk-toggleable__label {cursor: pointer;display: block;width: 100%;margin-bottom: 0;padding: 0.3em;box-sizing: border-box;text-align: center;}#sk-container-id-2 label.sk-toggleable__label-arrow:before {content: \"▸\";float: left;margin-right: 0.25em;color: #696969;}#sk-container-id-2 label.sk-toggleable__label-arrow:hover:before {color: black;}#sk-container-id-2 div.sk-estimator:hover label.sk-toggleable__label-arrow:before {color: black;}#sk-container-id-2 div.sk-toggleable__content {max-height: 0;max-width: 0;overflow: hidden;text-align: left;background-color: #f0f8ff;}#sk-container-id-2 div.sk-toggleable__content pre {margin: 0.2em;color: black;border-radius: 0.25em;background-color: #f0f8ff;}#sk-container-id-2 input.sk-toggleable__control:checked~div.sk-toggleable__content {max-height: 200px;max-width: 100%;overflow: auto;}#sk-container-id-2 input.sk-toggleable__control:checked~label.sk-toggleable__label-arrow:before {content: \"▾\";}#sk-container-id-2 div.sk-estimator input.sk-toggleable__control:checked~label.sk-toggleable__label {background-color: #d4ebff;}#sk-container-id-2 div.sk-label input.sk-toggleable__control:checked~label.sk-toggleable__label {background-color: #d4ebff;}#sk-container-id-2 input.sk-hidden--visually {border: 0;clip: rect(1px 1px 1px 1px);clip: rect(1px, 1px, 1px, 1px);height: 1px;margin: -1px;overflow: hidden;padding: 0;position: absolute;width: 1px;}#sk-container-id-2 div.sk-estimator {font-family: monospace;background-color: #f0f8ff;border: 1px dotted black;border-radius: 0.25em;box-sizing: border-box;margin-bottom: 0.5em;}#sk-container-id-2 div.sk-estimator:hover {background-color: #d4ebff;}#sk-container-id-2 div.sk-parallel-item::after {content: \"\";width: 100%;border-bottom: 1px solid gray;flex-grow: 1;}#sk-container-id-2 div.sk-label:hover label.sk-toggleable__label {background-color: #d4ebff;}#sk-container-id-2 div.sk-serial::before {content: \"\";position: absolute;border-left: 1px solid gray;box-sizing: border-box;top: 0;bottom: 0;left: 50%;z-index: 0;}#sk-container-id-2 div.sk-serial {display: flex;flex-direction: column;align-items: center;background-color: white;padding-right: 0.2em;padding-left: 0.2em;position: relative;}#sk-container-id-2 div.sk-item {position: relative;z-index: 1;}#sk-container-id-2 div.sk-parallel {display: flex;align-items: stretch;justify-content: center;background-color: white;position: relative;}#sk-container-id-2 div.sk-item::before, #sk-container-id-2 div.sk-parallel-item::before {content: \"\";position: absolute;border-left: 1px solid gray;box-sizing: border-box;top: 0;bottom: 0;left: 50%;z-index: -1;}#sk-container-id-2 div.sk-parallel-item {display: flex;flex-direction: column;z-index: 1;position: relative;background-color: white;}#sk-container-id-2 div.sk-parallel-item:first-child::after {align-self: flex-end;width: 50%;}#sk-container-id-2 div.sk-parallel-item:last-child::after {align-self: flex-start;width: 50%;}#sk-container-id-2 div.sk-parallel-item:only-child::after {width: 0;}#sk-container-id-2 div.sk-dashed-wrapped {border: 1px dashed gray;margin: 0 0.4em 0.5em 0.4em;box-sizing: border-box;padding-bottom: 0.4em;background-color: white;}#sk-container-id-2 div.sk-label label {font-family: monospace;font-weight: bold;display: inline-block;line-height: 1.2em;}#sk-container-id-2 div.sk-label-container {text-align: center;}#sk-container-id-2 div.sk-container {/* jupyter's `normalize.less` sets `[hidden] { display: none; }` but bootstrap.min.css set `[hidden] { display: none !important; }` so we also need the `!important` here to be able to override the default hidden behavior on the sphinx rendered scikit-learn.org. See: https://github.com/scikit-learn/scikit-learn/issues/21755 */display: inline-block !important;position: relative;}#sk-container-id-2 div.sk-text-repr-fallback {display: none;}</style><div id=\"sk-container-id-2\" class=\"sk-top-container\"><div class=\"sk-text-repr-fallback\"><pre>DecisionTreeClassifier()</pre><b>In a Jupyter environment, please rerun this cell to show the HTML representation or trust the notebook. <br />On GitHub, the HTML representation is unable to render, please try loading this page with nbviewer.org.</b></div><div class=\"sk-container\" hidden><div class=\"sk-item\"><div class=\"sk-estimator sk-toggleable\"><input class=\"sk-toggleable__control sk-hidden--visually\" id=\"sk-estimator-id-2\" type=\"checkbox\" checked><label for=\"sk-estimator-id-2\" class=\"sk-toggleable__label sk-toggleable__label-arrow\">DecisionTreeClassifier</label><div class=\"sk-toggleable__content\"><pre>DecisionTreeClassifier()</pre></div></div></div></div></div>"
      ],
      "text/plain": [
       "DecisionTreeClassifier()"
      ]
     },
     "execution_count": 31,
     "metadata": {},
     "output_type": "execute_result"
    }
   ],
   "source": [
    "dt_model.fit(x_train, y_train)"
   ]
  },
  {
   "cell_type": "code",
   "execution_count": 32,
   "id": "87777c64",
   "metadata": {},
   "outputs": [],
   "source": [
    "y_pre_DT=dt_model.predict(x_test)"
   ]
  },
  {
   "cell_type": "code",
   "execution_count": 33,
   "id": "11ebb910",
   "metadata": {},
   "outputs": [
    {
     "data": {
      "text/plain": [
       "0.6676470588235294"
      ]
     },
     "execution_count": 33,
     "metadata": {},
     "output_type": "execute_result"
    }
   ],
   "source": [
    "dt_model.score(x_test,y_test)"
   ]
  },
  {
   "cell_type": "code",
   "execution_count": 34,
   "id": "085196bc",
   "metadata": {},
   "outputs": [
    {
     "data": {
      "text/plain": [
       "1.0"
      ]
     },
     "execution_count": 34,
     "metadata": {},
     "output_type": "execute_result"
    }
   ],
   "source": [
    "dt_model.score(x_train,y_train)"
   ]
  },
  {
   "cell_type": "markdown",
   "id": "cb9299fd",
   "metadata": {},
   "source": [
    "Here Model is overfited, so we have to deal with it \n",
    "It will be normalise by Post Proning(ccp alpha)."
   ]
  },
  {
   "cell_type": "code",
   "execution_count": null,
   "id": "452a28e3",
   "metadata": {},
   "outputs": [],
   "source": []
  },
  {
   "cell_type": "code",
   "execution_count": 35,
   "id": "80553105",
   "metadata": {},
   "outputs": [],
   "source": [
    "path = dt_model.cost_complexity_pruning_path(x,y)\n",
    "ccp_alpha = path.ccp_alphas"
   ]
  },
  {
   "cell_type": "code",
   "execution_count": 36,
   "id": "44cec02a",
   "metadata": {},
   "outputs": [
    {
     "data": {
      "text/plain": [
       "{'ccp_alphas': array([0.        , 0.0004773 , 0.00048094, 0.00063072, 0.00064927,\n",
       "        0.00065408, 0.00066225, 0.00066225, 0.00067452, 0.00068678,\n",
       "        0.00068678, 0.00068985, 0.00069711, 0.00069711, 0.00070384,\n",
       "        0.00070384, 0.0007121 , 0.00072082, 0.00072357, 0.00073584,\n",
       "        0.00084621, 0.00085863, 0.000883  , 0.00091454, 0.00091939,\n",
       "        0.00096994, 0.00098111, 0.00098111, 0.00098111, 0.00098111,\n",
       "        0.00098111, 0.00098111, 0.00098111, 0.00098111, 0.00098111,\n",
       "        0.00098111, 0.00098111, 0.00105119, 0.00105119, 0.00106066,\n",
       "        0.00108368, 0.00108368, 0.00109885, 0.00109885, 0.00110375,\n",
       "        0.00110375, 0.00110375, 0.00110375, 0.00112127, 0.00112539,\n",
       "        0.00114463, 0.00114463, 0.00115237, 0.00116185, 0.00116799,\n",
       "        0.00117279, 0.00117427, 0.00117734, 0.00117734, 0.00117734,\n",
       "        0.00117734, 0.00119478, 0.00120186, 0.00120409, 0.00121196,\n",
       "        0.00122639, 0.00122639, 0.00122639, 0.00122639, 0.00122639,\n",
       "        0.00126097, 0.00126143, 0.00126143, 0.00126143, 0.00127545,\n",
       "        0.00128833, 0.00130815, 0.00132192, 0.0013245 , 0.00133788,\n",
       "        0.00134903, 0.00137603, 0.00138445, 0.00140768, 0.00141396,\n",
       "        0.00142839, 0.00144903, 0.00145234, 0.0014532 , 0.00149002,\n",
       "        0.00154001, 0.00154175, 0.00155343, 0.00156978, 0.00158231,\n",
       "        0.00163016, 0.00165268, 0.00166412, 0.00166721, 0.00172198,\n",
       "        0.00177191, 0.00178605, 0.00183097, 0.00184628, 0.00187009,\n",
       "        0.00196045, 0.00198227, 0.00205794, 0.00208584, 0.00214994,\n",
       "        0.00220751, 0.00234633, 0.00238922, 0.00245164, 0.00255626,\n",
       "        0.00276177, 0.00277439, 0.00289769, 0.00318708, 0.00349407,\n",
       "        0.00361902, 0.00368409, 0.00413475, 0.00453012, 0.00474165,\n",
       "        0.00475646, 0.00793218, 0.01253851, 0.01301115, 0.01500486,\n",
       "        0.08691308]),\n",
       " 'impurities': array([0.        , 0.0014319 , 0.00287471, 0.00413614, 0.00673321,\n",
       "        0.00804136, 0.00936586, 0.01069036, 0.0120394 , 0.01341295,\n",
       "        0.01478651, 0.0161662 , 0.01756042, 0.01895463, 0.02036232,\n",
       "        0.02177   , 0.0231942 , 0.02463584, 0.02608298, 0.02681881,\n",
       "        0.03020365, 0.03449679, 0.03626279, 0.03809187, 0.04085004,\n",
       "        0.0447298 , 0.04571091, 0.04669203, 0.04767314, 0.04865425,\n",
       "        0.04963537, 0.05061648, 0.05257871, 0.05355982, 0.05454093,\n",
       "        0.05552205, 0.05650316, 0.05860555, 0.06070793, 0.06707191,\n",
       "        0.0681556 , 0.06923928, 0.07473352, 0.08022775, 0.08133151,\n",
       "        0.08353901, 0.08464277, 0.08685027, 0.08797154, 0.09247312,\n",
       "        0.09476239, 0.09705165, 0.10396585, 0.10861323, 0.10978122,\n",
       "        0.11329961, 0.11564815, 0.11682548, 0.11800282, 0.11918016,\n",
       "        0.12035749, 0.12274704, 0.12394891, 0.1263571 , 0.12999299,\n",
       "        0.13121938, 0.13244577, 0.13367216, 0.13489856, 0.13612495,\n",
       "        0.13738592, 0.13864735, 0.13990878, 0.14243165, 0.14498254,\n",
       "        0.14884753, 0.15015569, 0.15147761, 0.15280211, 0.15413999,\n",
       "        0.15548902, 0.16374522, 0.16651411, 0.1679218 , 0.16933576,\n",
       "        0.17076414, 0.1736622 , 0.1809239 , 0.1881899 , 0.19265998,\n",
       "        0.19419999, 0.19574174, 0.1988486 , 0.20041838, 0.20674761,\n",
       "        0.20837777, 0.21168312, 0.21334724, 0.21501445, 0.21673643,\n",
       "        0.21850834, 0.22029439, 0.22395634, 0.22764889, 0.23138908,\n",
       "        0.23923088, 0.24319543, 0.24936926, 0.25771263, 0.26846235,\n",
       "        0.27066986, 0.27301619, 0.28018387, 0.28508714, 0.29019967,\n",
       "        0.29296144, 0.30128463, 0.30708001, 0.31026709, 0.3207493 ,\n",
       "        0.32436832, 0.3317365 , 0.33587124, 0.34040136, 0.34514301,\n",
       "        0.34989947, 0.35783165, 0.37037016, 0.39639245, 0.41139731,\n",
       "        0.49831039])}"
      ]
     },
     "execution_count": 36,
     "metadata": {},
     "output_type": "execute_result"
    }
   ],
   "source": [
    "path"
   ]
  },
  {
   "cell_type": "code",
   "execution_count": 37,
   "id": "54594cda",
   "metadata": {},
   "outputs": [
    {
     "data": {
      "text/plain": [
       "array([0.        , 0.0004773 , 0.00048094, 0.00063072, 0.00064927,\n",
       "       0.00065408, 0.00066225, 0.00066225, 0.00067452, 0.00068678,\n",
       "       0.00068678, 0.00068985, 0.00069711, 0.00069711, 0.00070384,\n",
       "       0.00070384, 0.0007121 , 0.00072082, 0.00072357, 0.00073584,\n",
       "       0.00084621, 0.00085863, 0.000883  , 0.00091454, 0.00091939,\n",
       "       0.00096994, 0.00098111, 0.00098111, 0.00098111, 0.00098111,\n",
       "       0.00098111, 0.00098111, 0.00098111, 0.00098111, 0.00098111,\n",
       "       0.00098111, 0.00098111, 0.00105119, 0.00105119, 0.00106066,\n",
       "       0.00108368, 0.00108368, 0.00109885, 0.00109885, 0.00110375,\n",
       "       0.00110375, 0.00110375, 0.00110375, 0.00112127, 0.00112539,\n",
       "       0.00114463, 0.00114463, 0.00115237, 0.00116185, 0.00116799,\n",
       "       0.00117279, 0.00117427, 0.00117734, 0.00117734, 0.00117734,\n",
       "       0.00117734, 0.00119478, 0.00120186, 0.00120409, 0.00121196,\n",
       "       0.00122639, 0.00122639, 0.00122639, 0.00122639, 0.00122639,\n",
       "       0.00126097, 0.00126143, 0.00126143, 0.00126143, 0.00127545,\n",
       "       0.00128833, 0.00130815, 0.00132192, 0.0013245 , 0.00133788,\n",
       "       0.00134903, 0.00137603, 0.00138445, 0.00140768, 0.00141396,\n",
       "       0.00142839, 0.00144903, 0.00145234, 0.0014532 , 0.00149002,\n",
       "       0.00154001, 0.00154175, 0.00155343, 0.00156978, 0.00158231,\n",
       "       0.00163016, 0.00165268, 0.00166412, 0.00166721, 0.00172198,\n",
       "       0.00177191, 0.00178605, 0.00183097, 0.00184628, 0.00187009,\n",
       "       0.00196045, 0.00198227, 0.00205794, 0.00208584, 0.00214994,\n",
       "       0.00220751, 0.00234633, 0.00238922, 0.00245164, 0.00255626,\n",
       "       0.00276177, 0.00277439, 0.00289769, 0.00318708, 0.00349407,\n",
       "       0.00361902, 0.00368409, 0.00413475, 0.00453012, 0.00474165,\n",
       "       0.00475646, 0.00793218, 0.01253851, 0.01301115, 0.01500486,\n",
       "       0.08691308])"
      ]
     },
     "execution_count": 37,
     "metadata": {},
     "output_type": "execute_result"
    }
   ],
   "source": [
    "ccp_alpha"
   ]
  },
  {
   "cell_type": "code",
   "execution_count": 38,
   "id": "5e9c0ce5",
   "metadata": {},
   "outputs": [],
   "source": [
    "dt_modle2 = []\n",
    "for ccp in ccp_alpha:\n",
    "    dt_m  = DecisionTreeClassifier(ccp_alpha=ccp)\n",
    "    dt_m.fit(x,y)\n",
    "    dt_modle2.append(dt_m)"
   ]
  },
  {
   "cell_type": "code",
   "execution_count": 39,
   "id": "44ec3e2b",
   "metadata": {},
   "outputs": [
    {
     "data": {
      "text/plain": [
       "[DecisionTreeClassifier(),\n",
       " DecisionTreeClassifier(ccp_alpha=0.0004772984905435241),\n",
       " DecisionTreeClassifier(ccp_alpha=0.00048093802151716764),\n",
       " DecisionTreeClassifier(ccp_alpha=0.0006307158625039421),\n",
       " DecisionTreeClassifier(ccp_alpha=0.0006492663290481754),\n",
       " DecisionTreeClassifier(ccp_alpha=0.0006540757092633472),\n",
       " DecisionTreeClassifier(ccp_alpha=0.0006622516556291393),\n",
       " DecisionTreeClassifier(ccp_alpha=0.0006622516556291393),\n",
       " DecisionTreeClassifier(ccp_alpha=0.0006745155751778269),\n",
       " DecisionTreeClassifier(ccp_alpha=0.0006867794947265147),\n",
       " DecisionTreeClassifier(ccp_alpha=0.0006867794947265147),\n",
       " DecisionTreeClassifier(ccp_alpha=0.0006898454746136866),\n",
       " DecisionTreeClassifier(ccp_alpha=0.0006971070059254099),\n",
       " DecisionTreeClassifier(ccp_alpha=0.0006971070059254099),\n",
       " DecisionTreeClassifier(ccp_alpha=0.0007038423393159934),\n",
       " DecisionTreeClassifier(ccp_alpha=0.0007038423393159934),\n",
       " DecisionTreeClassifier(ccp_alpha=0.000712098554439934),\n",
       " DecisionTreeClassifier(ccp_alpha=0.000720818128575934),\n",
       " DecisionTreeClassifier(ccp_alpha=0.0007235712533725782),\n",
       " DecisionTreeClassifier(ccp_alpha=0.0007358351729212656),\n",
       " DecisionTreeClassifier(ccp_alpha=0.0008462104488594557),\n",
       " DecisionTreeClassifier(ccp_alpha=0.0008586261535875486),\n",
       " DecisionTreeClassifier(ccp_alpha=0.0008830022075055188),\n",
       " DecisionTreeClassifier(ccp_alpha=0.0009145380006307158),\n",
       " DecisionTreeClassifier(ccp_alpha=0.0009193898917804863),\n",
       " DecisionTreeClassifier(ccp_alpha=0.0009699405525414825),\n",
       " DecisionTreeClassifier(ccp_alpha=0.0009811135638950208),\n",
       " DecisionTreeClassifier(ccp_alpha=0.0009811135638950208),\n",
       " DecisionTreeClassifier(ccp_alpha=0.0009811135638950208),\n",
       " DecisionTreeClassifier(ccp_alpha=0.0009811135638950208),\n",
       " DecisionTreeClassifier(ccp_alpha=0.0009811135638950208),\n",
       " DecisionTreeClassifier(ccp_alpha=0.0009811135638950208),\n",
       " DecisionTreeClassifier(ccp_alpha=0.0009811135638950208),\n",
       " DecisionTreeClassifier(ccp_alpha=0.0009811135638950208),\n",
       " DecisionTreeClassifier(ccp_alpha=0.0009811135638950208),\n",
       " DecisionTreeClassifier(ccp_alpha=0.0009811135638950208),\n",
       " DecisionTreeClassifier(ccp_alpha=0.0009811135638950208),\n",
       " DecisionTreeClassifier(ccp_alpha=0.0010511931041732366),\n",
       " DecisionTreeClassifier(ccp_alpha=0.0010511931041732366),\n",
       " DecisionTreeClassifier(ccp_alpha=0.0010606633123189412),\n",
       " DecisionTreeClassifier(ccp_alpha=0.0010836845273931362),\n",
       " DecisionTreeClassifier(ccp_alpha=0.0010836845273931362),\n",
       " DecisionTreeClassifier(ccp_alpha=0.0010988471915624235),\n",
       " DecisionTreeClassifier(ccp_alpha=0.0010988471915624235),\n",
       " DecisionTreeClassifier(ccp_alpha=0.0011037527593818985),\n",
       " DecisionTreeClassifier(ccp_alpha=0.0011037527593818985),\n",
       " DecisionTreeClassifier(ccp_alpha=0.0011037527593818985),\n",
       " DecisionTreeClassifier(ccp_alpha=0.0011037527593818985),\n",
       " DecisionTreeClassifier(ccp_alpha=0.0011212726444514525),\n",
       " DecisionTreeClassifier(ccp_alpha=0.001125394970350171),\n",
       " DecisionTreeClassifier(ccp_alpha=0.0011446324912108576),\n",
       " DecisionTreeClassifier(ccp_alpha=0.0011446324912108576),\n",
       " DecisionTreeClassifier(ccp_alpha=0.0011523664945298497),\n",
       " DecisionTreeClassifier(ccp_alpha=0.0011618450098756828),\n",
       " DecisionTreeClassifier(ccp_alpha=0.001167992337970263),\n",
       " DecisionTreeClassifier(ccp_alpha=0.0011727940842485853),\n",
       " DecisionTreeClassifier(ccp_alpha=0.0011742702967868527),\n",
       " DecisionTreeClassifier(ccp_alpha=0.0011773362766740248),\n",
       " DecisionTreeClassifier(ccp_alpha=0.0011773362766740248),\n",
       " DecisionTreeClassifier(ccp_alpha=0.0011773362766740248),\n",
       " DecisionTreeClassifier(ccp_alpha=0.0011773362766740248),\n",
       " DecisionTreeClassifier(ccp_alpha=0.0011947760292131161),\n",
       " DecisionTreeClassifier(ccp_alpha=0.0012018641157713998),\n",
       " DecisionTreeClassifier(ccp_alpha=0.0012040939193257074),\n",
       " DecisionTreeClassifier(ccp_alpha=0.001211963814223261),\n",
       " DecisionTreeClassifier(ccp_alpha=0.0012263919548687761),\n",
       " DecisionTreeClassifier(ccp_alpha=0.0012263919548687761),\n",
       " DecisionTreeClassifier(ccp_alpha=0.0012263919548687761),\n",
       " DecisionTreeClassifier(ccp_alpha=0.0012263919548687761),\n",
       " DecisionTreeClassifier(ccp_alpha=0.0012263919548687761),\n",
       " DecisionTreeClassifier(ccp_alpha=0.0012609721870388462),\n",
       " DecisionTreeClassifier(ccp_alpha=0.0012614317250078842),\n",
       " DecisionTreeClassifier(ccp_alpha=0.0012614317250078842),\n",
       " DecisionTreeClassifier(ccp_alpha=0.0012614317250078842),\n",
       " DecisionTreeClassifier(ccp_alpha=0.0012754476330635268),\n",
       " DecisionTreeClassifier(ccp_alpha=0.001288330942488411),\n",
       " DecisionTreeClassifier(ccp_alpha=0.0013081514185266944),\n",
       " DecisionTreeClassifier(ccp_alpha=0.001321921433458554),\n",
       " DecisionTreeClassifier(ccp_alpha=0.0013245033112582786),\n",
       " DecisionTreeClassifier(ccp_alpha=0.0013378821325841196),\n",
       " DecisionTreeClassifier(ccp_alpha=0.0013490311503556538),\n",
       " DecisionTreeClassifier(ccp_alpha=0.0013760323849922602),\n",
       " DecisionTreeClassifier(ccp_alpha=0.001384447692216689),\n",
       " DecisionTreeClassifier(ccp_alpha=0.0014076846786319867),\n",
       " DecisionTreeClassifier(ccp_alpha=0.0014139577832604673),\n",
       " DecisionTreeClassifier(ccp_alpha=0.0014283859239059863),\n",
       " DecisionTreeClassifier(ccp_alpha=0.0014490292635988),\n",
       " DecisionTreeClassifier(ccp_alpha=0.0014523389707695594),\n",
       " DecisionTreeClassifier(ccp_alpha=0.0014532015292315578),\n",
       " DecisionTreeClassifier(ccp_alpha=0.0014900242579518428),\n",
       " DecisionTreeClassifier(ccp_alpha=0.0015400141699528653),\n",
       " DecisionTreeClassifier(ccp_alpha=0.0015417498861207476),\n",
       " DecisionTreeClassifier(ccp_alpha=0.0015534298095004491),\n",
       " DecisionTreeClassifier(ccp_alpha=0.0015697817022320337),\n",
       " DecisionTreeClassifier(ccp_alpha=0.001582306556239204),\n",
       " DecisionTreeClassifier(ccp_alpha=0.0016301579215486505),\n",
       " DecisionTreeClassifier(ccp_alpha=0.0016526779284862648),\n",
       " DecisionTreeClassifier(ccp_alpha=0.001664119544914247),\n",
       " DecisionTreeClassifier(ccp_alpha=0.0016672069652202103),\n",
       " DecisionTreeClassifier(ccp_alpha=0.001721980088426004),\n",
       " DecisionTreeClassifier(ccp_alpha=0.0017719107842920113),\n",
       " DecisionTreeClassifier(ccp_alpha=0.0017860519367500684),\n",
       " DecisionTreeClassifier(ccp_alpha=0.0018309744771017444),\n",
       " DecisionTreeClassifier(ccp_alpha=0.0018462773429660843),\n",
       " DecisionTreeClassifier(ccp_alpha=0.0018700945853263725),\n",
       " DecisionTreeClassifier(ccp_alpha=0.001960449023885761),\n",
       " DecisionTreeClassifier(ccp_alpha=0.0019822746495290686),\n",
       " DecisionTreeClassifier(ccp_alpha=0.0020579445958739707),\n",
       " DecisionTreeClassifier(ccp_alpha=0.002085843037698114),\n",
       " DecisionTreeClassifier(ccp_alpha=0.002149943771202887),\n",
       " DecisionTreeClassifier(ccp_alpha=0.002207505518763797),\n",
       " DecisionTreeClassifier(ccp_alpha=0.0023463339751377335),\n",
       " DecisionTreeClassifier(ccp_alpha=0.0023892249793647895),\n",
       " DecisionTreeClassifier(ccp_alpha=0.0024516364084932307),\n",
       " DecisionTreeClassifier(ccp_alpha=0.0025562642610821966),\n",
       " DecisionTreeClassifier(ccp_alpha=0.0027617709736915026),\n",
       " DecisionTreeClassifier(ccp_alpha=0.002774394836073106),\n",
       " DecisionTreeClassifier(ccp_alpha=0.002897691657809391),\n",
       " DecisionTreeClassifier(ccp_alpha=0.003187082050657021),\n",
       " DecisionTreeClassifier(ccp_alpha=0.003494069398873189),\n",
       " DecisionTreeClassifier(ccp_alpha=0.003619024910420668),\n",
       " DecisionTreeClassifier(ccp_alpha=0.003684085826127389),\n",
       " DecisionTreeClassifier(ccp_alpha=0.004134747805034145),\n",
       " DecisionTreeClassifier(ccp_alpha=0.004530116411164048),\n",
       " DecisionTreeClassifier(ccp_alpha=0.004741652394937283),\n",
       " DecisionTreeClassifier(ccp_alpha=0.004756459087664769),\n",
       " DecisionTreeClassifier(ccp_alpha=0.007932181360002094),\n",
       " DecisionTreeClassifier(ccp_alpha=0.012538505360934454),\n",
       " DecisionTreeClassifier(ccp_alpha=0.013011148676563403),\n",
       " DecisionTreeClassifier(ccp_alpha=0.015004857774077701),\n",
       " DecisionTreeClassifier(ccp_alpha=0.08691308193509589)]"
      ]
     },
     "execution_count": 39,
     "metadata": {},
     "output_type": "execute_result"
    }
   ],
   "source": [
    "dt_modle2"
   ]
  },
  {
   "cell_type": "code",
   "execution_count": 40,
   "id": "3eca5afd",
   "metadata": {},
   "outputs": [
    {
     "data": {
      "text/plain": [
       "Text(0, 0.5, 'score')"
      ]
     },
     "execution_count": 40,
     "metadata": {},
     "output_type": "execute_result"
    },
    {
     "data": {
      "image/png": "[encoded data removed]",
      "text/plain": [
       "<Figure size 640x480 with 1 Axes>"
      ]
     },
     "metadata": {},
     "output_type": "display_data"
    }
   ],
   "source": [
    "dt_model2 = []\n",
    "score = []\n",
    "for i in ccp_alpha:\n",
    "    dt_m = DecisionTreeClassifier(ccp_alpha = i)\n",
    "    dt_m.fit(x,y)\n",
    "    dt_model2.append(dt_m)\n",
    "    score.append(dt_m.score(x_test, y_test))\n",
    "\n",
    "    \n",
    "plt.plot(score, 'r-+')\n",
    "plt.xlabel('iteration')\n",
    "plt.ylabel('score')"
   ]
  },
  {
   "cell_type": "code",
   "execution_count": 41,
   "id": "a44ae555",
   "metadata": {},
   "outputs": [
    {
     "data": {
      "text/plain": [
       "[DecisionTreeClassifier(),\n",
       " DecisionTreeClassifier(ccp_alpha=0.0004772984905435241),\n",
       " DecisionTreeClassifier(ccp_alpha=0.00048093802151716764),\n",
       " DecisionTreeClassifier(ccp_alpha=0.0006307158625039421),\n",
       " DecisionTreeClassifier(ccp_alpha=0.0006492663290481754),\n",
       " DecisionTreeClassifier(ccp_alpha=0.0006540757092633472),\n",
       " DecisionTreeClassifier(ccp_alpha=0.0006622516556291393),\n",
       " DecisionTreeClassifier(ccp_alpha=0.0006622516556291393),\n",
       " DecisionTreeClassifier(ccp_alpha=0.0006745155751778269),\n",
       " DecisionTreeClassifier(ccp_alpha=0.0006867794947265147),\n",
       " DecisionTreeClassifier(ccp_alpha=0.0006867794947265147),\n",
       " DecisionTreeClassifier(ccp_alpha=0.0006898454746136866),\n",
       " DecisionTreeClassifier(ccp_alpha=0.0006971070059254099),\n",
       " DecisionTreeClassifier(ccp_alpha=0.0006971070059254099),\n",
       " DecisionTreeClassifier(ccp_alpha=0.0007038423393159934),\n",
       " DecisionTreeClassifier(ccp_alpha=0.0007038423393159934),\n",
       " DecisionTreeClassifier(ccp_alpha=0.000712098554439934),\n",
       " DecisionTreeClassifier(ccp_alpha=0.000720818128575934),\n",
       " DecisionTreeClassifier(ccp_alpha=0.0007235712533725782),\n",
       " DecisionTreeClassifier(ccp_alpha=0.0007358351729212656),\n",
       " DecisionTreeClassifier(ccp_alpha=0.0008462104488594557),\n",
       " DecisionTreeClassifier(ccp_alpha=0.0008586261535875486),\n",
       " DecisionTreeClassifier(ccp_alpha=0.0008830022075055188),\n",
       " DecisionTreeClassifier(ccp_alpha=0.0009145380006307158),\n",
       " DecisionTreeClassifier(ccp_alpha=0.0009193898917804863),\n",
       " DecisionTreeClassifier(ccp_alpha=0.0009699405525414825),\n",
       " DecisionTreeClassifier(ccp_alpha=0.0009811135638950208),\n",
       " DecisionTreeClassifier(ccp_alpha=0.0009811135638950208),\n",
       " DecisionTreeClassifier(ccp_alpha=0.0009811135638950208),\n",
       " DecisionTreeClassifier(ccp_alpha=0.0009811135638950208),\n",
       " DecisionTreeClassifier(ccp_alpha=0.0009811135638950208),\n",
       " DecisionTreeClassifier(ccp_alpha=0.0009811135638950208),\n",
       " DecisionTreeClassifier(ccp_alpha=0.0009811135638950208),\n",
       " DecisionTreeClassifier(ccp_alpha=0.0009811135638950208),\n",
       " DecisionTreeClassifier(ccp_alpha=0.0009811135638950208),\n",
       " DecisionTreeClassifier(ccp_alpha=0.0009811135638950208),\n",
       " DecisionTreeClassifier(ccp_alpha=0.0009811135638950208),\n",
       " DecisionTreeClassifier(ccp_alpha=0.0010511931041732366),\n",
       " DecisionTreeClassifier(ccp_alpha=0.0010511931041732366),\n",
       " DecisionTreeClassifier(ccp_alpha=0.0010606633123189412),\n",
       " DecisionTreeClassifier(ccp_alpha=0.0010836845273931362),\n",
       " DecisionTreeClassifier(ccp_alpha=0.0010836845273931362),\n",
       " DecisionTreeClassifier(ccp_alpha=0.0010988471915624235),\n",
       " DecisionTreeClassifier(ccp_alpha=0.0010988471915624235),\n",
       " DecisionTreeClassifier(ccp_alpha=0.0011037527593818985),\n",
       " DecisionTreeClassifier(ccp_alpha=0.0011037527593818985),\n",
       " DecisionTreeClassifier(ccp_alpha=0.0011037527593818985),\n",
       " DecisionTreeClassifier(ccp_alpha=0.0011037527593818985),\n",
       " DecisionTreeClassifier(ccp_alpha=0.0011212726444514525),\n",
       " DecisionTreeClassifier(ccp_alpha=0.001125394970350171),\n",
       " DecisionTreeClassifier(ccp_alpha=0.0011446324912108576),\n",
       " DecisionTreeClassifier(ccp_alpha=0.0011446324912108576),\n",
       " DecisionTreeClassifier(ccp_alpha=0.0011523664945298497),\n",
       " DecisionTreeClassifier(ccp_alpha=0.0011618450098756828),\n",
       " DecisionTreeClassifier(ccp_alpha=0.001167992337970263),\n",
       " DecisionTreeClassifier(ccp_alpha=0.0011727940842485853),\n",
       " DecisionTreeClassifier(ccp_alpha=0.0011742702967868527),\n",
       " DecisionTreeClassifier(ccp_alpha=0.0011773362766740248),\n",
       " DecisionTreeClassifier(ccp_alpha=0.0011773362766740248),\n",
       " DecisionTreeClassifier(ccp_alpha=0.0011773362766740248),\n",
       " DecisionTreeClassifier(ccp_alpha=0.0011773362766740248),\n",
       " DecisionTreeClassifier(ccp_alpha=0.0011947760292131161),\n",
       " DecisionTreeClassifier(ccp_alpha=0.0012018641157713998),\n",
       " DecisionTreeClassifier(ccp_alpha=0.0012040939193257074),\n",
       " DecisionTreeClassifier(ccp_alpha=0.001211963814223261),\n",
       " DecisionTreeClassifier(ccp_alpha=0.0012263919548687761),\n",
       " DecisionTreeClassifier(ccp_alpha=0.0012263919548687761),\n",
       " DecisionTreeClassifier(ccp_alpha=0.0012263919548687761),\n",
       " DecisionTreeClassifier(ccp_alpha=0.0012263919548687761),\n",
       " DecisionTreeClassifier(ccp_alpha=0.0012263919548687761),\n",
       " DecisionTreeClassifier(ccp_alpha=0.0012609721870388462),\n",
       " DecisionTreeClassifier(ccp_alpha=0.0012614317250078842),\n",
       " DecisionTreeClassifier(ccp_alpha=0.0012614317250078842),\n",
       " DecisionTreeClassifier(ccp_alpha=0.0012614317250078842),\n",
       " DecisionTreeClassifier(ccp_alpha=0.0012754476330635268),\n",
       " DecisionTreeClassifier(ccp_alpha=0.001288330942488411),\n",
       " DecisionTreeClassifier(ccp_alpha=0.0013081514185266944),\n",
       " DecisionTreeClassifier(ccp_alpha=0.001321921433458554),\n",
       " DecisionTreeClassifier(ccp_alpha=0.0013245033112582786),\n",
       " DecisionTreeClassifier(ccp_alpha=0.0013378821325841196),\n",
       " DecisionTreeClassifier(ccp_alpha=0.0013490311503556538),\n",
       " DecisionTreeClassifier(ccp_alpha=0.0013760323849922602),\n",
       " DecisionTreeClassifier(ccp_alpha=0.001384447692216689),\n",
       " DecisionTreeClassifier(ccp_alpha=0.0014076846786319867),\n",
       " DecisionTreeClassifier(ccp_alpha=0.0014139577832604673),\n",
       " DecisionTreeClassifier(ccp_alpha=0.0014283859239059863),\n",
       " DecisionTreeClassifier(ccp_alpha=0.0014490292635988),\n",
       " DecisionTreeClassifier(ccp_alpha=0.0014523389707695594),\n",
       " DecisionTreeClassifier(ccp_alpha=0.0014532015292315578),\n",
       " DecisionTreeClassifier(ccp_alpha=0.0014900242579518428),\n",
       " DecisionTreeClassifier(ccp_alpha=0.0015400141699528653),\n",
       " DecisionTreeClassifier(ccp_alpha=0.0015417498861207476),\n",
       " DecisionTreeClassifier(ccp_alpha=0.0015534298095004491),\n",
       " DecisionTreeClassifier(ccp_alpha=0.0015697817022320337),\n",
       " DecisionTreeClassifier(ccp_alpha=0.001582306556239204),\n",
       " DecisionTreeClassifier(ccp_alpha=0.0016301579215486505),\n",
       " DecisionTreeClassifier(ccp_alpha=0.0016526779284862648),\n",
       " DecisionTreeClassifier(ccp_alpha=0.001664119544914247),\n",
       " DecisionTreeClassifier(ccp_alpha=0.0016672069652202103),\n",
       " DecisionTreeClassifier(ccp_alpha=0.001721980088426004),\n",
       " DecisionTreeClassifier(ccp_alpha=0.0017719107842920113),\n",
       " DecisionTreeClassifier(ccp_alpha=0.0017860519367500684),\n",
       " DecisionTreeClassifier(ccp_alpha=0.0018309744771017444),\n",
       " DecisionTreeClassifier(ccp_alpha=0.0018462773429660843),\n",
       " DecisionTreeClassifier(ccp_alpha=0.0018700945853263725),\n",
       " DecisionTreeClassifier(ccp_alpha=0.001960449023885761),\n",
       " DecisionTreeClassifier(ccp_alpha=0.0019822746495290686),\n",
       " DecisionTreeClassifier(ccp_alpha=0.0020579445958739707),\n",
       " DecisionTreeClassifier(ccp_alpha=0.002085843037698114),\n",
       " DecisionTreeClassifier(ccp_alpha=0.002149943771202887),\n",
       " DecisionTreeClassifier(ccp_alpha=0.002207505518763797),\n",
       " DecisionTreeClassifier(ccp_alpha=0.0023463339751377335),\n",
       " DecisionTreeClassifier(ccp_alpha=0.0023892249793647895),\n",
       " DecisionTreeClassifier(ccp_alpha=0.0024516364084932307),\n",
       " DecisionTreeClassifier(ccp_alpha=0.0025562642610821966),\n",
       " DecisionTreeClassifier(ccp_alpha=0.0027617709736915026),\n",
       " DecisionTreeClassifier(ccp_alpha=0.002774394836073106),\n",
       " DecisionTreeClassifier(ccp_alpha=0.002897691657809391),\n",
       " DecisionTreeClassifier(ccp_alpha=0.003187082050657021),\n",
       " DecisionTreeClassifier(ccp_alpha=0.003494069398873189),\n",
       " DecisionTreeClassifier(ccp_alpha=0.003619024910420668),\n",
       " DecisionTreeClassifier(ccp_alpha=0.003684085826127389),\n",
       " DecisionTreeClassifier(ccp_alpha=0.004134747805034145),\n",
       " DecisionTreeClassifier(ccp_alpha=0.004530116411164048),\n",
       " DecisionTreeClassifier(ccp_alpha=0.004741652394937283),\n",
       " DecisionTreeClassifier(ccp_alpha=0.004756459087664769),\n",
       " DecisionTreeClassifier(ccp_alpha=0.007932181360002094),\n",
       " DecisionTreeClassifier(ccp_alpha=0.012538505360934454),\n",
       " DecisionTreeClassifier(ccp_alpha=0.013011148676563403),\n",
       " DecisionTreeClassifier(ccp_alpha=0.015004857774077701),\n",
       " DecisionTreeClassifier(ccp_alpha=0.08691308193509589)]"
      ]
     },
     "execution_count": 41,
     "metadata": {},
     "output_type": "execute_result"
    }
   ],
   "source": [
    "dt_modle2"
   ]
  },
  {
   "cell_type": "code",
   "execution_count": 42,
   "id": "111055a1",
   "metadata": {},
   "outputs": [],
   "source": [
    "train_score = [i.score(x,y) for i in dt_modle2]"
   ]
  },
  {
   "cell_type": "code",
   "execution_count": 43,
   "id": "1eb77f94",
   "metadata": {},
   "outputs": [],
   "source": [
    "test_score = [i.score(x_test ,y_test) for i in dt_modle2]"
   ]
  },
  {
   "cell_type": "code",
   "execution_count": 44,
   "id": "825c0359",
   "metadata": {},
   "outputs": [
    {
     "data": {
      "image/png": "[encoded data removed]",
      "text/plain": [
       "<Figure size 640x480 with 1 Axes>"
      ]
     },
     "metadata": {},
     "output_type": "display_data"
    }
   ],
   "source": [
    "fig, ax = plt.subplots()\n",
    "ax.set_xlabel(\"alpha\")\n",
    "ax.set_ylabel(\"accuracy\")\n",
    "ax.set_title(\"Accuracy vs alpha for training and testing sets\")\n",
    "ax.plot(ccp_alpha, train_score, marker='o', label=\"train\",\n",
    "        drawstyle=\"steps-post\")\n",
    "ax.plot(ccp_alpha, test_score, marker='o', label=\"test\",\n",
    "        drawstyle=\"steps-post\")\n",
    "ax.legend()\n",
    "plt.show()"
   ]
  },
  {
   "cell_type": "code",
   "execution_count": 45,
   "id": "92d95a7d",
   "metadata": {},
   "outputs": [
    {
     "data": {
      "text/html": [
       "<style>#sk-container-id-3 {color: black;}#sk-container-id-3 pre{padding: 0;}#sk-container-id-3 div.sk-toggleable {background-color: white;}#sk-container-id-3 label.sk-toggleable__label {cursor: pointer;display: block;width: 100%;margin-bottom: 0;padding: 0.3em;box-sizing: border-box;text-align: center;}#sk-container-id-3 label.sk-toggleable__label-arrow:before {content: \"▸\";float: left;margin-right: 0.25em;color: #696969;}#sk-container-id-3 label.sk-toggleable__label-arrow:hover:before {color: black;}#sk-container-id-3 div.sk-estimator:hover label.sk-toggleable__label-arrow:before {color: black;}#sk-container-id-3 div.sk-toggleable__content {max-height: 0;max-width: 0;overflow: hidden;text-align: left;background-color: #f0f8ff;}#sk-container-id-3 div.sk-toggleable__content pre {margin: 0.2em;color: black;border-radius: 0.25em;background-color: #f0f8ff;}#sk-container-id-3 input.sk-toggleable__control:checked~div.sk-toggleable__content {max-height: 200px;max-width: 100%;overflow: auto;}#sk-container-id-3 input.sk-toggleable__control:checked~label.sk-toggleable__label-arrow:before {content: \"▾\";}#sk-container-id-3 div.sk-estimator input.sk-toggleable__control:checked~label.sk-toggleable__label {background-color: #d4ebff;}#sk-container-id-3 div.sk-label input.sk-toggleable__control:checked~label.sk-toggleable__label {background-color: #d4ebff;}#sk-container-id-3 input.sk-hidden--visually {border: 0;clip: rect(1px 1px 1px 1px);clip: rect(1px, 1px, 1px, 1px);height: 1px;margin: -1px;overflow: hidden;padding: 0;position: absolute;width: 1px;}#sk-container-id-3 div.sk-estimator {font-family: monospace;background-color: #f0f8ff;border: 1px dotted black;border-radius: 0.25em;box-sizing: border-box;margin-bottom: 0.5em;}#sk-container-id-3 div.sk-estimator:hover {background-color: #d4ebff;}#sk-container-id-3 div.sk-parallel-item::after {content: \"\";width: 100%;border-bottom: 1px solid gray;flex-grow: 1;}#sk-container-id-3 div.sk-label:hover label.sk-toggleable__label {background-color: #d4ebff;}#sk-container-id-3 div.sk-serial::before {content: \"\";position: absolute;border-left: 1px solid gray;box-sizing: border-box;top: 0;bottom: 0;left: 50%;z-index: 0;}#sk-container-id-3 div.sk-serial {display: flex;flex-direction: column;align-items: center;background-color: white;padding-right: 0.2em;padding-left: 0.2em;position: relative;}#sk-container-id-3 div.sk-item {position: relative;z-index: 1;}#sk-container-id-3 div.sk-parallel {display: flex;align-items: stretch;justify-content: center;background-color: white;position: relative;}#sk-container-id-3 div.sk-item::before, #sk-container-id-3 div.sk-parallel-item::before {content: \"\";position: absolute;border-left: 1px solid gray;box-sizing: border-box;top: 0;bottom: 0;left: 50%;z-index: -1;}#sk-container-id-3 div.sk-parallel-item {display: flex;flex-direction: column;z-index: 1;position: relative;background-color: white;}#sk-container-id-3 div.sk-parallel-item:first-child::after {align-self: flex-end;width: 50%;}#sk-container-id-3 div.sk-parallel-item:last-child::after {align-self: flex-start;width: 50%;}#sk-container-id-3 div.sk-parallel-item:only-child::after {width: 0;}#sk-container-id-3 div.sk-dashed-wrapped {border: 1px dashed gray;margin: 0 0.4em 0.5em 0.4em;box-sizing: border-box;padding-bottom: 0.4em;background-color: white;}#sk-container-id-3 div.sk-label label {font-family: monospace;font-weight: bold;display: inline-block;line-height: 1.2em;}#sk-container-id-3 div.sk-label-container {text-align: center;}#sk-container-id-3 div.sk-container {/* jupyter's `normalize.less` sets `[hidden] { display: none; }` but bootstrap.min.css set `[hidden] { display: none !important; }` so we also need the `!important` here to be able to override the default hidden behavior on the sphinx rendered scikit-learn.org. See: https://github.com/scikit-learn/scikit-learn/issues/21755 */display: inline-block !important;position: relative;}#sk-container-id-3 div.sk-text-repr-fallback {display: none;}</style><div id=\"sk-container-id-3\" class=\"sk-top-container\"><div class=\"sk-text-repr-fallback\"><pre>DecisionTreeClassifier(ccp_alpha=0.014, random_state=0)</pre><b>In a Jupyter environment, please rerun this cell to show the HTML representation or trust the notebook. <br />On GitHub, the HTML representation is unable to render, please try loading this page with nbviewer.org.</b></div><div class=\"sk-container\" hidden><div class=\"sk-item\"><div class=\"sk-estimator sk-toggleable\"><input class=\"sk-toggleable__control sk-hidden--visually\" id=\"sk-estimator-id-3\" type=\"checkbox\" checked><label for=\"sk-estimator-id-3\" class=\"sk-toggleable__label sk-toggleable__label-arrow\">DecisionTreeClassifier</label><div class=\"sk-toggleable__content\"><pre>DecisionTreeClassifier(ccp_alpha=0.014, random_state=0)</pre></div></div></div></div></div>"
      ],
      "text/plain": [
       "DecisionTreeClassifier(ccp_alpha=0.014, random_state=0)"
      ]
     },
     "execution_count": 45,
     "metadata": {},
     "output_type": "execute_result"
    }
   ],
   "source": [
    "dt_model_ccp = DecisionTreeClassifier(random_state=0 , ccp_alpha=.014)\n",
    "dt_model_ccp.fit(x,y)"
   ]
  },
  {
   "cell_type": "code",
   "execution_count": 46,
   "id": "990a7217",
   "metadata": {},
   "outputs": [
    {
     "data": {
      "text/plain": [
       "0.7006869479882237"
      ]
     },
     "execution_count": 46,
     "metadata": {},
     "output_type": "execute_result"
    }
   ],
   "source": [
    "dt_model_ccp.score(x_train,y_train)"
   ]
  },
  {
   "cell_type": "code",
   "execution_count": 47,
   "id": "ad5303fd",
   "metadata": {},
   "outputs": [
    {
     "data": {
      "text/plain": [
       "0.7323529411764705"
      ]
     },
     "execution_count": 47,
     "metadata": {},
     "output_type": "execute_result"
    }
   ],
   "source": [
    "dt_model_ccp.score(x_test,y_test)"
   ]
  },
  {
   "cell_type": "markdown",
   "id": "e5586213",
   "metadata": {},
   "source": [
    "Here we deal with ovefitting now the model is not overfited."
   ]
  },
  {
   "cell_type": "markdown",
   "id": "e4d7480f",
   "metadata": {},
   "source": [
    "#### Random Forest:"
   ]
  },
  {
   "cell_type": "code",
   "execution_count": 48,
   "id": "1f52d045",
   "metadata": {},
   "outputs": [
    {
     "name": "stdout",
     "output_type": "stream",
     "text": [
      "n_estimators =  45  --> accurecy is = 0.7529411764705882\n",
      "n_estimators =  50  --> accurecy is = 0.7558823529411764\n",
      "n_estimators =  60  --> accurecy is = 0.7470588235294118\n",
      "n_estimators =  65  --> accurecy is = 0.7441176470588236\n",
      "n_estimators =  70  --> accurecy is = 0.75\n",
      "n_estimators =  75  --> accurecy is = 0.7470588235294118\n",
      "n_estimators =  150  --> accurecy is = 0.7529411764705882\n",
      "n_estimators =  200  --> accurecy is = 0.7441176470588236\n",
      "n_estimators =  300  --> accurecy is = 0.7529411764705882\n",
      "n_estimators =  350  --> accurecy is = 0.75\n"
     ]
    }
   ],
   "source": [
    "from sklearn.ensemble import RandomForestClassifier\n",
    "n_list = [45,50,60,65,70,75,150,200,300,350]\n",
    "for n in n_list:\n",
    "    ran_r = RandomForestClassifier(n_estimators=n,random_state=0)\n",
    "    ran_r.fit(x_train,y_train)\n",
    "    print('n_estimators = ',n,' --> accurecy is = '+str(ran_r.score(x_test,y_test)))"
   ]
  },
  {
   "cell_type": "code",
   "execution_count": 49,
   "id": "f021ef92",
   "metadata": {},
   "outputs": [
    {
     "data": {
      "text/html": [
       "<style>#sk-container-id-4 {color: black;}#sk-container-id-4 pre{padding: 0;}#sk-container-id-4 div.sk-toggleable {background-color: white;}#sk-container-id-4 label.sk-toggleable__label {cursor: pointer;display: block;width: 100%;margin-bottom: 0;padding: 0.3em;box-sizing: border-box;text-align: center;}#sk-container-id-4 label.sk-toggleable__label-arrow:before {content: \"▸\";float: left;margin-right: 0.25em;color: #696969;}#sk-container-id-4 label.sk-toggleable__label-arrow:hover:before {color: black;}#sk-container-id-4 div.sk-estimator:hover label.sk-toggleable__label-arrow:before {color: black;}#sk-container-id-4 div.sk-toggleable__content {max-height: 0;max-width: 0;overflow: hidden;text-align: left;background-color: #f0f8ff;}#sk-container-id-4 div.sk-toggleable__content pre {margin: 0.2em;color: black;border-radius: 0.25em;background-color: #f0f8ff;}#sk-container-id-4 input.sk-toggleable__control:checked~div.sk-toggleable__content {max-height: 200px;max-width: 100%;overflow: auto;}#sk-container-id-4 input.sk-toggleable__control:checked~label.sk-toggleable__label-arrow:before {content: \"▾\";}#sk-container-id-4 div.sk-estimator input.sk-toggleable__control:checked~label.sk-toggleable__label {background-color: #d4ebff;}#sk-container-id-4 div.sk-label input.sk-toggleable__control:checked~label.sk-toggleable__label {background-color: #d4ebff;}#sk-container-id-4 input.sk-hidden--visually {border: 0;clip: rect(1px 1px 1px 1px);clip: rect(1px, 1px, 1px, 1px);height: 1px;margin: -1px;overflow: hidden;padding: 0;position: absolute;width: 1px;}#sk-container-id-4 div.sk-estimator {font-family: monospace;background-color: #f0f8ff;border: 1px dotted black;border-radius: 0.25em;box-sizing: border-box;margin-bottom: 0.5em;}#sk-container-id-4 div.sk-estimator:hover {background-color: #d4ebff;}#sk-container-id-4 div.sk-parallel-item::after {content: \"\";width: 100%;border-bottom: 1px solid gray;flex-grow: 1;}#sk-container-id-4 div.sk-label:hover label.sk-toggleable__label {background-color: #d4ebff;}#sk-container-id-4 div.sk-serial::before {content: \"\";position: absolute;border-left: 1px solid gray;box-sizing: border-box;top: 0;bottom: 0;left: 50%;z-index: 0;}#sk-container-id-4 div.sk-serial {display: flex;flex-direction: column;align-items: center;background-color: white;padding-right: 0.2em;padding-left: 0.2em;position: relative;}#sk-container-id-4 div.sk-item {position: relative;z-index: 1;}#sk-container-id-4 div.sk-parallel {display: flex;align-items: stretch;justify-content: center;background-color: white;position: relative;}#sk-container-id-4 div.sk-item::before, #sk-container-id-4 div.sk-parallel-item::before {content: \"\";position: absolute;border-left: 1px solid gray;box-sizing: border-box;top: 0;bottom: 0;left: 50%;z-index: -1;}#sk-container-id-4 div.sk-parallel-item {display: flex;flex-direction: column;z-index: 1;position: relative;background-color: white;}#sk-container-id-4 div.sk-parallel-item:first-child::after {align-self: flex-end;width: 50%;}#sk-container-id-4 div.sk-parallel-item:last-child::after {align-self: flex-start;width: 50%;}#sk-container-id-4 div.sk-parallel-item:only-child::after {width: 0;}#sk-container-id-4 div.sk-dashed-wrapped {border: 1px dashed gray;margin: 0 0.4em 0.5em 0.4em;box-sizing: border-box;padding-bottom: 0.4em;background-color: white;}#sk-container-id-4 div.sk-label label {font-family: monospace;font-weight: bold;display: inline-block;line-height: 1.2em;}#sk-container-id-4 div.sk-label-container {text-align: center;}#sk-container-id-4 div.sk-container {/* jupyter's `normalize.less` sets `[hidden] { display: none; }` but bootstrap.min.css set `[hidden] { display: none !important; }` so we also need the `!important` here to be able to override the default hidden behavior on the sphinx rendered scikit-learn.org. See: https://github.com/scikit-learn/scikit-learn/issues/21755 */display: inline-block !important;position: relative;}#sk-container-id-4 div.sk-text-repr-fallback {display: none;}</style><div id=\"sk-container-id-4\" class=\"sk-top-container\"><div class=\"sk-text-repr-fallback\"><pre>RandomForestClassifier(n_estimators=50, random_state=0)</pre><b>In a Jupyter environment, please rerun this cell to show the HTML representation or trust the notebook. <br />On GitHub, the HTML representation is unable to render, please try loading this page with nbviewer.org.</b></div><div class=\"sk-container\" hidden><div class=\"sk-item\"><div class=\"sk-estimator sk-toggleable\"><input class=\"sk-toggleable__control sk-hidden--visually\" id=\"sk-estimator-id-4\" type=\"checkbox\" checked><label for=\"sk-estimator-id-4\" class=\"sk-toggleable__label sk-toggleable__label-arrow\">RandomForestClassifier</label><div class=\"sk-toggleable__content\"><pre>RandomForestClassifier(n_estimators=50, random_state=0)</pre></div></div></div></div></div>"
      ],
      "text/plain": [
       "RandomForestClassifier(n_estimators=50, random_state=0)"
      ]
     },
     "execution_count": 49,
     "metadata": {},
     "output_type": "execute_result"
    }
   ],
   "source": [
    "ran = RandomForestClassifier(n_estimators=50,random_state=0)\n",
    "ran.fit(x_train,y_train)"
   ]
  },
  {
   "cell_type": "code",
   "execution_count": 50,
   "id": "425dc62a",
   "metadata": {},
   "outputs": [
    {
     "data": {
      "text/plain": [
       "array([5, 5, 5, 6, 5, 5, 6, 5, 5, 6, 6, 6, 6, 6, 6, 5, 6, 6, 6, 5, 5, 6,\n",
       "       6, 6, 5, 6, 5, 6, 5, 5, 5, 6, 5, 6, 6, 5, 5, 5, 5, 5, 6, 6, 5, 6,\n",
       "       5, 6, 5, 5, 5, 5, 6, 5, 5, 5, 6, 6, 5, 5, 6, 6, 6, 6, 5, 6, 6, 6,\n",
       "       5, 5, 5, 6, 5, 6, 5, 6, 6, 6, 6, 5, 6, 5, 6, 6, 5, 6, 5, 5, 6, 5,\n",
       "       6, 5, 5, 6, 5, 5, 6, 6, 6, 5, 6, 6, 5, 6, 5, 5, 5, 6, 5, 5, 5, 6,\n",
       "       6, 6, 6, 6, 5, 5, 6, 6, 5, 6, 5, 6, 6, 5, 5, 6, 6, 6, 6, 5, 5, 5,\n",
       "       6, 6, 6, 6, 5, 5, 6, 6, 5, 5, 5, 5, 6, 5, 6, 5, 5, 6, 5, 6, 5, 6,\n",
       "       5, 5, 5, 5, 5, 5, 6, 6, 5, 6, 5, 5, 6, 6, 6, 6, 6, 5, 5, 6, 6, 6,\n",
       "       5, 6, 6, 6, 6, 6, 6, 6, 5, 6, 5, 5, 6, 6, 6, 5, 5, 6, 5, 6, 6, 6,\n",
       "       6, 6, 5, 6, 6, 5, 6, 6, 6, 5, 5, 6, 6, 6, 5, 6, 6, 5, 6, 6, 6, 6,\n",
       "       5, 5, 6, 6, 6, 6, 6, 5, 6, 5, 5, 5, 6, 6, 5, 5, 6, 6, 6, 6, 6, 6,\n",
       "       5, 5, 5, 6, 5, 6, 5, 6, 5, 6, 5, 5, 6, 6, 5, 5, 5, 6, 5, 6, 6, 5,\n",
       "       6, 6, 6, 5, 5, 5, 6, 5, 6, 5, 6, 6, 6, 6, 6, 6, 6, 6, 5, 6, 6, 6,\n",
       "       6, 6, 5, 6, 5, 5, 5, 5, 6, 5, 6, 5, 6, 5, 5, 5, 5, 5, 5, 6, 6, 6,\n",
       "       5, 5, 6, 5, 6, 6, 5, 5, 5, 5, 5, 5, 6, 6, 6, 5, 5, 5, 6, 5, 5, 6,\n",
       "       5, 5, 6, 6, 5, 5, 6, 5, 6, 5])"
      ]
     },
     "execution_count": 50,
     "metadata": {},
     "output_type": "execute_result"
    }
   ],
   "source": [
    "y_pre_ran = ran.predict(x_test)\n",
    "y_pre_ran"
   ]
  },
  {
   "cell_type": "code",
   "execution_count": 51,
   "id": "a38a5fe3",
   "metadata": {},
   "outputs": [
    {
     "data": {
      "text/plain": [
       "0.7558823529411764"
      ]
     },
     "execution_count": 51,
     "metadata": {},
     "output_type": "execute_result"
    }
   ],
   "source": [
    "ran.score(x_test,y_test)"
   ]
  },
  {
   "cell_type": "code",
   "execution_count": 52,
   "id": "e03d2630",
   "metadata": {},
   "outputs": [
    {
     "data": {
      "text/plain": [
       "1.0"
      ]
     },
     "execution_count": 52,
     "metadata": {},
     "output_type": "execute_result"
    }
   ],
   "source": [
    "ran.score(x_train,y_train)"
   ]
  },
  {
   "cell_type": "code",
   "execution_count": 53,
   "id": "031f1391",
   "metadata": {},
   "outputs": [
    {
     "data": {
      "text/html": [
       "<style>#sk-container-id-5 {color: black;}#sk-container-id-5 pre{padding: 0;}#sk-container-id-5 div.sk-toggleable {background-color: white;}#sk-container-id-5 label.sk-toggleable__label {cursor: pointer;display: block;width: 100%;margin-bottom: 0;padding: 0.3em;box-sizing: border-box;text-align: center;}#sk-container-id-5 label.sk-toggleable__label-arrow:before {content: \"▸\";float: left;margin-right: 0.25em;color: #696969;}#sk-container-id-5 label.sk-toggleable__label-arrow:hover:before {color: black;}#sk-container-id-5 div.sk-estimator:hover label.sk-toggleable__label-arrow:before {color: black;}#sk-container-id-5 div.sk-toggleable__content {max-height: 0;max-width: 0;overflow: hidden;text-align: left;background-color: #f0f8ff;}#sk-container-id-5 div.sk-toggleable__content pre {margin: 0.2em;color: black;border-radius: 0.25em;background-color: #f0f8ff;}#sk-container-id-5 input.sk-toggleable__control:checked~div.sk-toggleable__content {max-height: 200px;max-width: 100%;overflow: auto;}#sk-container-id-5 input.sk-toggleable__control:checked~label.sk-toggleable__label-arrow:before {content: \"▾\";}#sk-container-id-5 div.sk-estimator input.sk-toggleable__control:checked~label.sk-toggleable__label {background-color: #d4ebff;}#sk-container-id-5 div.sk-label input.sk-toggleable__control:checked~label.sk-toggleable__label {background-color: #d4ebff;}#sk-container-id-5 input.sk-hidden--visually {border: 0;clip: rect(1px 1px 1px 1px);clip: rect(1px, 1px, 1px, 1px);height: 1px;margin: -1px;overflow: hidden;padding: 0;position: absolute;width: 1px;}#sk-container-id-5 div.sk-estimator {font-family: monospace;background-color: #f0f8ff;border: 1px dotted black;border-radius: 0.25em;box-sizing: border-box;margin-bottom: 0.5em;}#sk-container-id-5 div.sk-estimator:hover {background-color: #d4ebff;}#sk-container-id-5 div.sk-parallel-item::after {content: \"\";width: 100%;border-bottom: 1px solid gray;flex-grow: 1;}#sk-container-id-5 div.sk-label:hover label.sk-toggleable__label {background-color: #d4ebff;}#sk-container-id-5 div.sk-serial::before {content: \"\";position: absolute;border-left: 1px solid gray;box-sizing: border-box;top: 0;bottom: 0;left: 50%;z-index: 0;}#sk-container-id-5 div.sk-serial {display: flex;flex-direction: column;align-items: center;background-color: white;padding-right: 0.2em;padding-left: 0.2em;position: relative;}#sk-container-id-5 div.sk-item {position: relative;z-index: 1;}#sk-container-id-5 div.sk-parallel {display: flex;align-items: stretch;justify-content: center;background-color: white;position: relative;}#sk-container-id-5 div.sk-item::before, #sk-container-id-5 div.sk-parallel-item::before {content: \"\";position: absolute;border-left: 1px solid gray;box-sizing: border-box;top: 0;bottom: 0;left: 50%;z-index: -1;}#sk-container-id-5 div.sk-parallel-item {display: flex;flex-direction: column;z-index: 1;position: relative;background-color: white;}#sk-container-id-5 div.sk-parallel-item:first-child::after {align-self: flex-end;width: 50%;}#sk-container-id-5 div.sk-parallel-item:last-child::after {align-self: flex-start;width: 50%;}#sk-container-id-5 div.sk-parallel-item:only-child::after {width: 0;}#sk-container-id-5 div.sk-dashed-wrapped {border: 1px dashed gray;margin: 0 0.4em 0.5em 0.4em;box-sizing: border-box;padding-bottom: 0.4em;background-color: white;}#sk-container-id-5 div.sk-label label {font-family: monospace;font-weight: bold;display: inline-block;line-height: 1.2em;}#sk-container-id-5 div.sk-label-container {text-align: center;}#sk-container-id-5 div.sk-container {/* jupyter's `normalize.less` sets `[hidden] { display: none; }` but bootstrap.min.css set `[hidden] { display: none !important; }` so we also need the `!important` here to be able to override the default hidden behavior on the sphinx rendered scikit-learn.org. See: https://github.com/scikit-learn/scikit-learn/issues/21755 */display: inline-block !important;position: relative;}#sk-container-id-5 div.sk-text-repr-fallback {display: none;}</style><div id=\"sk-container-id-5\" class=\"sk-top-container\"><div class=\"sk-text-repr-fallback\"><pre>BaggingClassifier(base_estimator=LogisticRegression(), random_state=7)</pre><b>In a Jupyter environment, please rerun this cell to show the HTML representation or trust the notebook. <br />On GitHub, the HTML representation is unable to render, please try loading this page with nbviewer.org.</b></div><div class=\"sk-container\" hidden><div class=\"sk-item sk-dashed-wrapped\"><div class=\"sk-label-container\"><div class=\"sk-label sk-toggleable\"><input class=\"sk-toggleable__control sk-hidden--visually\" id=\"sk-estimator-id-5\" type=\"checkbox\" ><label for=\"sk-estimator-id-5\" class=\"sk-toggleable__label sk-toggleable__label-arrow\">BaggingClassifier</label><div class=\"sk-toggleable__content\"><pre>BaggingClassifier(base_estimator=LogisticRegression(), random_state=7)</pre></div></div></div><div class=\"sk-parallel\"><div class=\"sk-parallel-item\"><div class=\"sk-item\"><div class=\"sk-label-container\"><div class=\"sk-label sk-toggleable\"><input class=\"sk-toggleable__control sk-hidden--visually\" id=\"sk-estimator-id-6\" type=\"checkbox\" ><label for=\"sk-estimator-id-6\" class=\"sk-toggleable__label sk-toggleable__label-arrow\">base_estimator: LogisticRegression</label><div class=\"sk-toggleable__content\"><pre>LogisticRegression()</pre></div></div></div><div class=\"sk-serial\"><div class=\"sk-item\"><div class=\"sk-estimator sk-toggleable\"><input class=\"sk-toggleable__control sk-hidden--visually\" id=\"sk-estimator-id-7\" type=\"checkbox\" ><label for=\"sk-estimator-id-7\" class=\"sk-toggleable__label sk-toggleable__label-arrow\">LogisticRegression</label><div class=\"sk-toggleable__content\"><pre>LogisticRegression()</pre></div></div></div></div></div></div></div></div></div></div>"
      ],
      "text/plain": [
       "BaggingClassifier(base_estimator=LogisticRegression(), random_state=7)"
      ]
     },
     "execution_count": 53,
     "metadata": {},
     "output_type": "execute_result"
    }
   ],
   "source": [
    "from sklearn.ensemble import BaggingClassifier\n",
    "bag = BaggingClassifier(base_estimator=lg,random_state=7)\n",
    "bag.fit(x_train,y_train)"
   ]
  },
  {
   "cell_type": "code",
   "execution_count": 54,
   "id": "c015c3aa",
   "metadata": {},
   "outputs": [],
   "source": [
    "y_pred_bag = bag.predict(x_test)"
   ]
  },
  {
   "cell_type": "code",
   "execution_count": 55,
   "id": "df044637",
   "metadata": {},
   "outputs": [
    {
     "data": {
      "text/plain": [
       "0.7382352941176471"
      ]
     },
     "execution_count": 55,
     "metadata": {},
     "output_type": "execute_result"
    }
   ],
   "source": [
    "accuracy_score(y_test, y_pred_bag)"
   ]
  },
  {
   "cell_type": "code",
   "execution_count": 56,
   "id": "d586237a",
   "metadata": {},
   "outputs": [
    {
     "data": {
      "text/plain": [
       "0.7428851815505397"
      ]
     },
     "execution_count": 56,
     "metadata": {},
     "output_type": "execute_result"
    }
   ],
   "source": [
    "bag.score(x_train, y_train)"
   ]
  },
  {
   "cell_type": "markdown",
   "id": "90d53221",
   "metadata": {},
   "source": [
    "#### Conclusion:"
   ]
  },
  {
   "cell_type": "markdown",
   "id": "073a6262",
   "metadata": {},
   "source": [
    "Here we can conclude that logistic Regression is the best model for this data by using it model not be overfited."
   ]
  }
 ],
 "metadata": {
  "kernelspec": {
   "display_name": "Python 3 (ipykernel)",
   "language": "python",
   "name": "python3"
  },
  "language_info": {
   "codemirror_mode": {
    "name": "ipython",
    "version": 3
   },
   "file_extension": ".py",
   "mimetype": "text/x-python",
   "name": "python",
   "nbconvert_exporter": "python",
   "pygments_lexer": "ipython3",
   "version": "3.10.9"
  }
 },
 "nbformat": 4,
 "nbformat_minor": 5
}
